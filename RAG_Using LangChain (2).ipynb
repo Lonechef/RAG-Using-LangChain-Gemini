{
 "cells": [
  {
   "cell_type": "code",
   "execution_count": null,
   "id": "d72da8b2-7034-4afe-b423-6cefae0123c4",
   "metadata": {},
   "outputs": [],
   "source": [
    "# So in this we will be making a RAG Application using LangChain,Gemini and FAISS (whihch is the vector DB)\n"
   ]
  },
  {
   "cell_type": "code",
   "execution_count": 2,
   "id": "b3baa3b5-73fa-43b9-886d-a20c23411dce",
   "metadata": {},
   "outputs": [
    {
     "name": "stdout",
     "output_type": "stream",
     "text": [
      "Requirement already satisfied: langchain in ./anaconda3/lib/python3.11/site-packages (0.3.25)\n",
      "Requirement already satisfied: langchain-community in ./anaconda3/lib/python3.11/site-packages (0.3.25)\n",
      "Requirement already satisfied: langchain-google-genai in ./anaconda3/lib/python3.11/site-packages (2.0.10)\n",
      "Requirement already satisfied: google-generativeai in ./anaconda3/lib/python3.11/site-packages (0.8.5)\n",
      "Requirement already satisfied: faiss-cpu in ./anaconda3/lib/python3.11/site-packages (1.11.0)\n",
      "Requirement already satisfied: langchain-core<1.0.0,>=0.3.58 in ./anaconda3/lib/python3.11/site-packages (from langchain) (0.3.65)\n",
      "Requirement already satisfied: langchain-text-splitters<1.0.0,>=0.3.8 in ./anaconda3/lib/python3.11/site-packages (from langchain) (0.3.8)\n",
      "Requirement already satisfied: langsmith<0.4,>=0.1.17 in ./anaconda3/lib/python3.11/site-packages (from langchain) (0.3.45)\n",
      "Requirement already satisfied: pydantic<3.0.0,>=2.7.4 in ./anaconda3/lib/python3.11/site-packages (from langchain) (2.11.7)\n",
      "Requirement already satisfied: SQLAlchemy<3,>=1.4 in ./anaconda3/lib/python3.11/site-packages (from langchain) (2.0.25)\n",
      "Requirement already satisfied: requests<3,>=2 in ./anaconda3/lib/python3.11/site-packages (from langchain) (2.31.0)\n",
      "Requirement already satisfied: PyYAML>=5.3 in ./anaconda3/lib/python3.11/site-packages (from langchain) (6.0.1)\n",
      "Requirement already satisfied: aiohttp<4.0.0,>=3.8.3 in ./anaconda3/lib/python3.11/site-packages (from langchain-community) (3.9.3)\n",
      "Requirement already satisfied: tenacity!=8.4.0,<10,>=8.1.0 in ./anaconda3/lib/python3.11/site-packages (from langchain-community) (8.2.2)\n",
      "Requirement already satisfied: dataclasses-json<0.7,>=0.5.7 in ./anaconda3/lib/python3.11/site-packages (from langchain-community) (0.6.7)\n",
      "Requirement already satisfied: pydantic-settings<3.0.0,>=2.4.0 in ./anaconda3/lib/python3.11/site-packages (from langchain-community) (2.9.1)\n",
      "Requirement already satisfied: httpx-sse<1.0.0,>=0.4.0 in ./anaconda3/lib/python3.11/site-packages (from langchain-community) (0.4.0)\n",
      "Requirement already satisfied: numpy>=1.26.2 in ./anaconda3/lib/python3.11/site-packages (from langchain-community) (1.26.4)\n",
      "Requirement already satisfied: filetype<2.0.0,>=1.2.0 in ./anaconda3/lib/python3.11/site-packages (from langchain-google-genai) (1.2.0)\n",
      "Requirement already satisfied: google-ai-generativelanguage==0.6.15 in ./anaconda3/lib/python3.11/site-packages (from google-generativeai) (0.6.15)\n",
      "Requirement already satisfied: google-api-core in ./anaconda3/lib/python3.11/site-packages (from google-generativeai) (2.25.1)\n",
      "Requirement already satisfied: google-api-python-client in ./anaconda3/lib/python3.11/site-packages (from google-generativeai) (2.173.0)\n",
      "Requirement already satisfied: google-auth>=2.15.0 in ./anaconda3/lib/python3.11/site-packages (from google-generativeai) (2.40.3)\n",
      "Requirement already satisfied: protobuf in ./anaconda3/lib/python3.11/site-packages (from google-generativeai) (5.29.5)\n",
      "Requirement already satisfied: tqdm in ./anaconda3/lib/python3.11/site-packages (from google-generativeai) (4.65.0)\n",
      "Requirement already satisfied: typing-extensions in ./anaconda3/lib/python3.11/site-packages (from google-generativeai) (4.14.0)\n",
      "Requirement already satisfied: proto-plus<2.0.0dev,>=1.22.3 in ./anaconda3/lib/python3.11/site-packages (from google-ai-generativelanguage==0.6.15->google-generativeai) (1.26.1)\n",
      "Requirement already satisfied: packaging in ./anaconda3/lib/python3.11/site-packages (from faiss-cpu) (24.2)\n",
      "Requirement already satisfied: aiosignal>=1.1.2 in ./anaconda3/lib/python3.11/site-packages (from aiohttp<4.0.0,>=3.8.3->langchain-community) (1.2.0)\n",
      "Requirement already satisfied: attrs>=17.3.0 in ./anaconda3/lib/python3.11/site-packages (from aiohttp<4.0.0,>=3.8.3->langchain-community) (23.1.0)\n",
      "Requirement already satisfied: frozenlist>=1.1.1 in ./anaconda3/lib/python3.11/site-packages (from aiohttp<4.0.0,>=3.8.3->langchain-community) (1.4.0)\n",
      "Requirement already satisfied: multidict<7.0,>=4.5 in ./anaconda3/lib/python3.11/site-packages (from aiohttp<4.0.0,>=3.8.3->langchain-community) (6.0.4)\n",
      "Requirement already satisfied: yarl<2.0,>=1.0 in ./anaconda3/lib/python3.11/site-packages (from aiohttp<4.0.0,>=3.8.3->langchain-community) (1.9.3)\n",
      "Requirement already satisfied: marshmallow<4.0.0,>=3.18.0 in ./anaconda3/lib/python3.11/site-packages (from dataclasses-json<0.7,>=0.5.7->langchain-community) (3.26.1)\n",
      "Requirement already satisfied: typing-inspect<1,>=0.4.0 in ./anaconda3/lib/python3.11/site-packages (from dataclasses-json<0.7,>=0.5.7->langchain-community) (0.9.0)\n",
      "Requirement already satisfied: googleapis-common-protos<2.0.0,>=1.56.2 in ./anaconda3/lib/python3.11/site-packages (from google-api-core->google-generativeai) (1.70.0)\n",
      "Requirement already satisfied: cachetools<6.0,>=2.0.0 in ./anaconda3/lib/python3.11/site-packages (from google-auth>=2.15.0->google-generativeai) (4.2.2)\n",
      "Requirement already satisfied: pyasn1-modules>=0.2.1 in ./anaconda3/lib/python3.11/site-packages (from google-auth>=2.15.0->google-generativeai) (0.2.8)\n",
      "Requirement already satisfied: rsa<5,>=3.1.4 in ./anaconda3/lib/python3.11/site-packages (from google-auth>=2.15.0->google-generativeai) (4.9.1)\n",
      "Requirement already satisfied: jsonpatch<2.0,>=1.33 in ./anaconda3/lib/python3.11/site-packages (from langchain-core<1.0.0,>=0.3.58->langchain) (1.33)\n",
      "Requirement already satisfied: httpx<1,>=0.23.0 in ./anaconda3/lib/python3.11/site-packages (from langsmith<0.4,>=0.1.17->langchain) (0.28.1)\n",
      "Requirement already satisfied: orjson<4.0.0,>=3.9.14 in ./anaconda3/lib/python3.11/site-packages (from langsmith<0.4,>=0.1.17->langchain) (3.10.18)\n",
      "Requirement already satisfied: requests-toolbelt<2.0.0,>=1.0.0 in ./anaconda3/lib/python3.11/site-packages (from langsmith<0.4,>=0.1.17->langchain) (1.0.0)\n",
      "Requirement already satisfied: zstandard<0.24.0,>=0.23.0 in ./anaconda3/lib/python3.11/site-packages (from langsmith<0.4,>=0.1.17->langchain) (0.23.0)\n",
      "Requirement already satisfied: annotated-types>=0.6.0 in ./anaconda3/lib/python3.11/site-packages (from pydantic<3.0.0,>=2.7.4->langchain) (0.7.0)\n",
      "Requirement already satisfied: pydantic-core==2.33.2 in ./anaconda3/lib/python3.11/site-packages (from pydantic<3.0.0,>=2.7.4->langchain) (2.33.2)\n",
      "Requirement already satisfied: typing-inspection>=0.4.0 in ./anaconda3/lib/python3.11/site-packages (from pydantic<3.0.0,>=2.7.4->langchain) (0.4.1)\n",
      "Requirement already satisfied: python-dotenv>=0.21.0 in ./anaconda3/lib/python3.11/site-packages (from pydantic-settings<3.0.0,>=2.4.0->langchain-community) (0.21.0)\n",
      "Requirement already satisfied: charset-normalizer<4,>=2 in ./anaconda3/lib/python3.11/site-packages (from requests<3,>=2->langchain) (2.0.4)\n",
      "Requirement already satisfied: idna<4,>=2.5 in ./anaconda3/lib/python3.11/site-packages (from requests<3,>=2->langchain) (3.4)\n",
      "Requirement already satisfied: urllib3<3,>=1.21.1 in ./anaconda3/lib/python3.11/site-packages (from requests<3,>=2->langchain) (2.0.7)\n",
      "Requirement already satisfied: certifi>=2017.4.17 in ./anaconda3/lib/python3.11/site-packages (from requests<3,>=2->langchain) (2024.2.2)\n",
      "Requirement already satisfied: greenlet!=0.4.17 in ./anaconda3/lib/python3.11/site-packages (from SQLAlchemy<3,>=1.4->langchain) (3.0.1)\n",
      "Requirement already satisfied: httplib2<1.0.0,>=0.19.0 in ./anaconda3/lib/python3.11/site-packages (from google-api-python-client->google-generativeai) (0.22.0)\n",
      "Requirement already satisfied: google-auth-httplib2<1.0.0,>=0.2.0 in ./anaconda3/lib/python3.11/site-packages (from google-api-python-client->google-generativeai) (0.2.0)\n",
      "Requirement already satisfied: uritemplate<5,>=3.0.1 in ./anaconda3/lib/python3.11/site-packages (from google-api-python-client->google-generativeai) (4.2.0)\n",
      "Requirement already satisfied: grpcio<2.0.0,>=1.33.2 in ./anaconda3/lib/python3.11/site-packages (from google-api-core[grpc]!=2.0.*,!=2.1.*,!=2.10.*,!=2.2.*,!=2.3.*,!=2.4.*,!=2.5.*,!=2.6.*,!=2.7.*,!=2.8.*,!=2.9.*,<3.0.0dev,>=1.34.1->google-ai-generativelanguage==0.6.15->google-generativeai) (1.73.0)\n",
      "Requirement already satisfied: grpcio-status<2.0.0,>=1.33.2 in ./anaconda3/lib/python3.11/site-packages (from google-api-core[grpc]!=2.0.*,!=2.1.*,!=2.10.*,!=2.2.*,!=2.3.*,!=2.4.*,!=2.5.*,!=2.6.*,!=2.7.*,!=2.8.*,!=2.9.*,<3.0.0dev,>=1.34.1->google-ai-generativelanguage==0.6.15->google-generativeai) (1.71.0)\n",
      "Requirement already satisfied: pyparsing!=3.0.0,!=3.0.1,!=3.0.2,!=3.0.3,<4,>=2.4.2 in ./anaconda3/lib/python3.11/site-packages (from httplib2<1.0.0,>=0.19.0->google-api-python-client->google-generativeai) (3.0.9)\n",
      "Requirement already satisfied: anyio in ./anaconda3/lib/python3.11/site-packages (from httpx<1,>=0.23.0->langsmith<0.4,>=0.1.17->langchain) (4.2.0)\n",
      "Requirement already satisfied: httpcore==1.* in ./anaconda3/lib/python3.11/site-packages (from httpx<1,>=0.23.0->langsmith<0.4,>=0.1.17->langchain) (1.0.9)\n",
      "Requirement already satisfied: h11>=0.16 in ./anaconda3/lib/python3.11/site-packages (from httpcore==1.*->httpx<1,>=0.23.0->langsmith<0.4,>=0.1.17->langchain) (0.16.0)\n",
      "Requirement already satisfied: jsonpointer>=1.9 in ./anaconda3/lib/python3.11/site-packages (from jsonpatch<2.0,>=1.33->langchain-core<1.0.0,>=0.3.58->langchain) (2.1)\n",
      "Requirement already satisfied: pyasn1<0.5.0,>=0.4.6 in ./anaconda3/lib/python3.11/site-packages (from pyasn1-modules>=0.2.1->google-auth>=2.15.0->google-generativeai) (0.4.8)\n",
      "Requirement already satisfied: mypy-extensions>=0.3.0 in ./anaconda3/lib/python3.11/site-packages (from typing-inspect<1,>=0.4.0->dataclasses-json<0.7,>=0.5.7->langchain-community) (1.0.0)\n",
      "Requirement already satisfied: sniffio>=1.1 in ./anaconda3/lib/python3.11/site-packages (from anyio->httpx<1,>=0.23.0->langsmith<0.4,>=0.1.17->langchain) (1.3.0)\n"
     ]
    }
   ],
   "source": [
    "# Installing necessary dependecies\n",
    "!pip install langchain langchain-community langchain-google-genai google-generativeai faiss-cpu"
   ]
  },
  {
   "cell_type": "code",
   "execution_count": 3,
   "id": "57df817b-274f-4fc2-bdac-25d2d8fd3700",
   "metadata": {},
   "outputs": [],
   "source": [
    "GOOGLE_API_KEY = \"#######\""
   ]
  },
  {
   "cell_type": "code",
   "execution_count": 4,
   "id": "c2838c05-8f00-4138-8f7b-55481e606658",
   "metadata": {},
   "outputs": [],
   "source": [
    "# Setting Up the key in the enviorment Variable\n",
    "import os\n",
    "os.environ[\"GOOGLE_API_KEY\"] = GOOGLE_API_KEY\n",
    " "
   ]
  },
  {
   "cell_type": "code",
   "execution_count": 5,
   "id": "8afa11b5-327a-4a10-adbf-ece890fc64cf",
   "metadata": {},
   "outputs": [],
   "source": [
    "# # We all know the three stages of RAG\n",
    "# 1. Data Ingestion\n",
    "# 2. Data Reterivalext\n",
    "# 3. Data Generation"
   ]
  },
  {
   "cell_type": "code",
   "execution_count": 6,
   "id": "dced596b-bfb3-45bb-adb7-88eff3d7d99a",
   "metadata": {},
   "outputs": [],
   "source": [
    "# Data Ingestion\n",
    "import requests\n",
    "from bs4 import BeautifulSoup\n",
    "from langchain.document_loaders import TextLoader\n",
    "from langchain.vectorstores import FAISS\n"
   ]
  },
  {
   "cell_type": "code",
   "execution_count": 7,
   "id": "3d6a1037-1948-4ae9-a371-f8bca07e0d1d",
   "metadata": {},
   "outputs": [],
   "source": [
    "# Below is the data url basically a wikipedia page\n",
    "url = \"https://en.wikipedia.org/wiki/State_of_the_Union#:~:text=Though%20the%20language%20of%20the,as%20late%20as%20March%207\""
   ]
  },
  {
   "cell_type": "code",
   "execution_count": 8,
   "id": "36dbdeeb-a713-4237-b4ac-f0f6ffe2cbf4",
   "metadata": {},
   "outputs": [],
   "source": [
    "response = requests.get(url)\n",
    "# To convert Html ciontent to normal readable text\n",
    "soup = BeautifulSoup(response.content, 'html.parser')"
   ]
  },
  {
   "cell_type": "code",
   "execution_count": 9,
   "id": "34a0562c-6075-43df-b86b-6da3d74a8c21",
   "metadata": {},
   "outputs": [
    {
     "name": "stdout",
     "output_type": "stream",
     "text": [
      "First 500 characters of extracted text:\n",
      "State of the Union - Wikipedia Jump to content Main menu Main menu move to sidebar hide Navigation Main pageContentsCurrent eventsRandom articleAbout WikipediaContact us Contribute HelpLearn to editCommunity portalRecent changesUpload fileSpecial pages Search Search Appearance Donate Create account Log in Personal tools Donate Create account Log in Pages for logged out editors learn more ContributionsTalk Contents move to sidebar hide (Top) 1 Formality 2 History 3 Delivery of the speech Toggle D\n"
     ]
    }
   ],
   "source": [
    "# Remove script and style elements\n",
    "for script in soup([\"script\", \"style\"]):\n",
    "    script.extract()\n",
    "\n",
    "# Get text content\n",
    "text = soup.get_text()\n",
    "# Clean up the text - remove extra whitespace and empty lines\n",
    "lines = (line.strip() for line in text.splitlines())\n",
    "chunks = (phrase.strip() for line in lines for phrase in line.split(\"  \"))\n",
    "clean_text = ' '.join(chunk for chunk in chunks if chunk)\n",
    "\n",
    "print(\"First 500 characters of extracted text:\")\n",
    "print(clean_text[:500])"
   ]
  },
  {
   "cell_type": "code",
   "execution_count": 10,
   "id": "12eb94e4-5f37-47c7-b74f-cbebf8f51977",
   "metadata": {},
   "outputs": [],
   "source": [
    "# Now we will store our reposne text as the raw data"
   ]
  },
  {
   "cell_type": "code",
   "execution_count": 11,
   "id": "5424e602-cb22-4d76-b978-097671304056",
   "metadata": {},
   "outputs": [],
   "source": [
    "# So now we are going to store our data in the file\n",
    "with open(\"state_of_the_union.txt\", \"w\", encoding=\"utf-8\") as f:\n",
    "    f.write(clean_text)"
   ]
  },
  {
   "cell_type": "code",
   "execution_count": 12,
   "id": "ea2dc95d-4149-4f77-9056-816cdcef540c",
   "metadata": {},
   "outputs": [],
   "source": [
    "# Now we will perform the data ingestion which basically means we are going to store our data in form of chunks in our Database\n",
    "loder=TextLoader('state_of_the_union.txt', encoding=\"utf8\")\n",
    "documents=loder.load()"
   ]
  },
  {
   "cell_type": "code",
   "execution_count": 13,
   "id": "732ec334-31b6-47a8-a3ba-93a54b7289f9",
   "metadata": {},
   "outputs": [],
   "source": [
    "# Chunking of the Data\n",
    "from langchain.text_splitter import RecursiveCharacterTextSplitter"
   ]
  },
  {
   "cell_type": "code",
   "execution_count": 14,
   "id": "1a2bafea-5ecb-4a54-9a53-4850e210a9d2",
   "metadata": {},
   "outputs": [],
   "source": [
    "# Now we will create an object of the  RecursiveCharacterTextSplitter and pass parameter into it\n",
    "# In langchain there are multiple textsplitter we can find out \n",
    "# So basically what this does is by its own it will do the spliiting in backend it is written in such a way that it will be able to split the stuff\n",
    "# Chunk size is basically in a particular chunk how many tokens we will consider and chunk overlap means basically overlaaping previous 49 token and taking new 1 \n",
    "text_splitter = RecursiveCharacterTextSplitter(chunk_size=500,chunk_overlap=50)\n"
   ]
  },
  {
   "cell_type": "code",
   "execution_count": 15,
   "id": "e3eb67ae-9183-4098-981f-a5e1446402ce",
   "metadata": {},
   "outputs": [
    {
     "name": "stdout",
     "output_type": "stream",
     "text": [
      "[Document(metadata={'source': 'state_of_the_union.txt'}, page_content='State of the Union - Wikipedia Jump to content Main menu Main menu move to sidebar hide Navigation Main pageContentsCurrent eventsRandom articleAbout WikipediaContact us Contribute HelpLearn to editCommunity portalRecent changesUpload fileSpecial pages Search Search Appearance Donate Create account Log in Personal tools Donate Create account Log in Pages for logged out editors learn more ContributionsTalk Contents move to sidebar hide (Top) 1 Formality 2 History 3 Delivery of the speech Toggle'), Document(metadata={'source': 'state_of_the_union.txt'}, page_content='2 History 3 Delivery of the speech Toggle Delivery of the speech subsection 3.1 Invitations 3.2 Protocol of entry into the House chamber 3.3 Designated survivor and other logistics 3.4 Content of the speech 4 Opposition response 5 Significance 6 Local versions 7 Historic speeches 8 TV ratings 9 See also 10 References 11 External links Toggle the table of contents State of the Union 31 languages العربيةBosanskiČeštinaDanskDeutschΕλληνικάEspañolEsperantoفارسیFrançais한국어HrvatskiBahasa'), Document(metadata={'source': 'state_of_the_union.txt'}, page_content='IndonesiaÍslenskaItalianoעבריתNederlands日本語Norsk bokmålPolskiPortuguêsRomânăРусскийSimple EnglishСрпски / srpskiSuomiSvenskaไทยTürkçeУкраїнська中文 Edit links ArticleTalk English ReadEditView history Tools Tools move to sidebar hide Actions ReadEditView history General What links hereRelated changesUpload filePermanent linkPage informationCite this pageGet shortened URLDownload QR code Print/export Download as PDFPrintable version In other projects Wikimedia CommonsWikidata item Appearance move'), Document(metadata={'source': 'state_of_the_union.txt'}, page_content='Wikimedia CommonsWikidata item Appearance move to sidebar hide From Wikipedia, the free encyclopedia Annual report by the president of the United States For the list, see List of State of the Union addresses. For other uses, see State of the Union (disambiguation). Woodrow Wilson giving his first State of the Union address on December 2, 1913. This was the first time since 1801 that such an address was made in person before a joint session of Congress,[1] initiating the modern trend with regard'), Document(metadata={'source': 'state_of_the_union.txt'}, page_content=\"initiating the modern trend with regard to the State of the Union address.[2] In the United States, the State of the Union Address (sometimes abbreviated to SOTU) is an annual message delivered by the president of the United States to a joint session of the United States Congress near the beginning of most calendar years on the current condition of the nation.[3][4] The speech generally includes reports on the nation's budget, economy, news, agenda, progress, achievements and the president's\"), Document(metadata={'source': 'state_of_the_union.txt'}, page_content='progress, achievements and the president\\'s priorities and legislative proposals.[5] The address fulfills the requirement in Article II, Section 3, Clause 1 of the U.S. Constitution for the president to periodically \"give to the Congress Information of the State of the Union, and recommend to their Consideration such Measures as he shall judge necessary and expedient\".[3] During most of the country\\'s first century, the president primarily submitted only a written report to Congress. After 1913,'), Document(metadata={'source': 'state_of_the_union.txt'}, page_content=\"only a written report to Congress. After 1913, Woodrow Wilson, the 28th U.S. president, began the regular practice of delivering the address to Congress in person as a way to rally support for the president's agenda, while also submitting a more detailed report.[3] With the advent of radio and television, the address is now broadcast live in all United States time zones on many networks.[6] The speech is generally held in January or February, and an invitation to the president is extended to\"), Document(metadata={'source': 'state_of_the_union.txt'}, page_content='and an invitation to the president is extended to use the chamber of the House by the speaker of the House. Starting in 1981, Ronald Reagan, the 40th U.S. president, began the practice of newly inaugurated presidents delivering an address to Congress in the first year of their term but not designating that speech an official \"State of the Union\".[7] Formality[edit] The practice arises from a duty of the president under the State of the Union Clause of the U.S. Constitution:[8] He shall from'), Document(metadata={'source': 'state_of_the_union.txt'}, page_content='Clause of the U.S. Constitution:[8] He shall from time to time give to the Congress information of the State of the Union and recommend to their Consideration such Measures as he shall judge necessary and expedient.—\\u200aArticle II, Section 3 of the U.S. Constitution Though the language of the clause is not specific, since the 1930s, the president has made this report annually in late January or early February. Between 1934 and 2024 the date has been as early as January 3,[7] and as late as March'), Document(metadata={'source': 'state_of_the_union.txt'}, page_content='as early as January 3,[7] and as late as March 7. While not required to deliver a speech, every president since Woodrow Wilson, with the notable exception of Herbert Hoover,[2] has made at least one State of the Union report as a speech delivered before a joint session of Congress. Before then, most presidents delivered the State of the Union as a written report.[7] Since Franklin Roosevelt, the State of the Union is given typically each January before a joint session of the United States'), Document(metadata={'source': 'state_of_the_union.txt'}, page_content='before a joint session of the United States Congress and is held in the House of Representatives chamber of the United States Capitol. Newly inaugurated presidents generally deliver an address to Congress in February of the first year of their term, but this speech is not officially considered to be a \"State of the Union\".[7] What began as a communication between president and Congress has become in effect a communication between the president and the people of the United States. Since the'), Document(metadata={'source': 'state_of_the_union.txt'}, page_content=\"and the people of the United States. Since the advent of radio, and then television, the speech has been broadcast live in all United States time zones on most networks, preempting scheduled programming. Since at least the 1960s, in order to reach the largest audience, the speech has typically been given at 9 p.m. (Eastern Time, UTC-5).[9] History[edit] George Washington's handwritten notes for the first State of the Union Address, January 8, 1790. Full 7 pages. George Washington delivered the\"), Document(metadata={'source': 'state_of_the_union.txt'}, page_content='Full 7 pages. George Washington delivered the first regular annual message before a joint session of Congress on January 8, 1790, in New York City, then the provisional U.S. capital. In 1801, Thomas Jefferson discontinued the practice of delivering the address in person, regarding it as too monarchical (similar to the Speech from the Throne). Instead, the address was written and then sent to Congress to be read by a clerk until 1913 when Woodrow Wilson re-established the practice despite some'), Document(metadata={'source': 'state_of_the_union.txt'}, page_content='Wilson re-established the practice despite some initial controversy, and an in-person address to Congress has been delivered nearly every year since. However, there have been exceptions to this rule, with some messages being given solely in writing, and others given both in writing and orally (either in a speech to Congress or through broadcast media).[10] The last president to give a written message without a spoken address was Jimmy Carter in 1981, days before his term ended after his defeat'), Document(metadata={'source': 'state_of_the_union.txt'}, page_content='1981, days before his term ended after his defeat by Ronald Reagan.[2] For many years, the speech was referred to as \"the President\\'s Annual Message to Congress\".[11] The actual term \"State of the Union\" first emerged in 1934 when Franklin D. Roosevelt used the phrase, becoming its generally accepted name since 1947.[11] State of the Union (Four Freedoms)(January 6, 1941) Franklin Delano Roosevelt\\'s January 6,1941 State of the Union Address, introducing the theme of theFour Freedoms (starting'), Document(metadata={'source': 'state_of_the_union.txt'}, page_content='the theme of theFour Freedoms (starting at 32:02) Problems playing this file? See media help. Prior to 1934, the annual message was delivered at the end of the calendar year, in December. The ratification of the 20th Amendment on January 23, 1933, changed the opening of Congress from early March to early January, affecting the delivery of the annual message. Since 1934, the message or address has been delivered to Congress early in the calendar year.[12] The Twentieth Amendment also established'), Document(metadata={'source': 'state_of_the_union.txt'}, page_content='The Twentieth Amendment also established January 20 as the beginning of the presidential term. In years when a new president is inaugurated, the outgoing president may deliver a final State of the Union message, but none has done so since Jimmy Carter sent a written message in 1981. In 1953 and 1961, Congress received both a written State of the Union message from the outgoing president and a separate State of the Union speech by the incoming president. Since 1981, in recognition that the'), Document(metadata={'source': 'state_of_the_union.txt'}, page_content='president. Since 1981, in recognition that the responsibility of reporting the State of the Union formally belongs to the president who held office during the past year, newly inaugurated presidents have not officially called their first speech before Congress a \"State of the Union\" message.[11] The text of the first page of Ronald Reagan\\'s first State of the Union Address, given January 26, 1982 Warren Harding\\'s 1922 speech was the first to be broadcast on radio, albeit to a limited'), Document(metadata={'source': 'state_of_the_union.txt'}, page_content=\"to be broadcast on radio, albeit to a limited audience,[13] while Calvin Coolidge's 1923 speech was the first to be broadcast across the nation.[4] President Roosevelt's address in 1936 was the first delivered in the evening,[14] but this precedent was not followed again until the 1960s. Harry S. Truman's 1947 address was the first to be broadcast on television. In 1968, television networks in the United States for the first time imposed no time limit for their coverage of a State of the Union\"), Document(metadata={'source': 'state_of_the_union.txt'}, page_content=\"limit for their coverage of a State of the Union address. Delivered by Lyndon B. Johnson, this address was followed by extensive televised commentary by, among others, Daniel Patrick Moynihan and Milton Friedman.[15] Bill Clinton's 1997 address was the first broadcast available live on the World Wide Web.[16] Ronald Reagan's 1986 State of the Union Address was the first to have been postponed. He had planned to deliver the speech on January 28, 1986, but it was delayed for a week following the\"), Document(metadata={'source': 'state_of_the_union.txt'}, page_content=\"1986, but it was delayed for a week following the Space Shuttle Challenger disaster that morning.[17][18] Reagan instead addressed the nation from the Oval Office about the disaster.[18] In 1999, Bill Clinton became the first president to deliver an in-person State of the Union address while standing trial for impeachment; the speech occurred the same day that Clinton's defense team made its opening statement in Clinton's impeachment trial, though he did not mention the proceeding.[19] On\"), Document(metadata={'source': 'state_of_the_union.txt'}, page_content='though he did not mention the proceeding.[19] On January 23, 2019, the 2019 State of the Union speech by Donald Trump, originally planned for January 29 was canceled after an exchange of letters with Speaker of the House Nancy Pelosi in which she stated she would not proceed with a vote on a resolution to permit him to deliver the speech in the House chamber until the end of 2018–19 United States federal government shutdown.[20] This decision rescinded an earlier invitation from the speaker,'), Document(metadata={'source': 'state_of_the_union.txt'}, page_content='rescinded an earlier invitation from the speaker, reportedly the first time in American history that a Speaker had \"disinvited\" the president from delivering the address.[21] Trump and Pelosi later agreed to hold the speech on February 5.[22] Delivery of the speech[edit] Because the address is made to a joint session of Congress, the House and Senate must each pass a resolution setting a date and time for the joint session. Then, a formal invitation is made by the speaker of the House to the'), Document(metadata={'source': 'state_of_the_union.txt'}, page_content=\"is made by the speaker of the House to the president typically several weeks before the appointed date.[23][24] Invitations[edit] Every member of Congress can bring one guest to the State of the Union address. The president may invite up to 24 guests to be seated in a box with the first lady. The Speaker of the House may invite up to 24 guests in the Speaker's box. Seating for Congress on the main floor is by a first-in, first-served basis with no reservations. The Cabinet, Supreme Court\"), Document(metadata={'source': 'state_of_the_union.txt'}, page_content='with no reservations. The Cabinet, Supreme Court justices, members of the Diplomatic Corps, and military leaders (the Joint Chiefs of Staff and Commandant of the Coast Guard) have reserved seating.[7] Protocol of entry into the House chamber[edit] By approximately 8:30\\xa0p.m. on the night of the address, the members of the House have gathered in their seats for the joint session.[25] Then, the deputy sergeant at arms addresses the speaker and loudly announces the vice president and members of the'), Document(metadata={'source': 'state_of_the_union.txt'}, page_content='announces the vice president and members of the Senate, who enter and take the seats assigned for them.[25] The speaker, and then the vice president, specify the members of the House and Senate, respectively, who will escort the president into the House chamber.[25] The deputy sergeant at arms addresses the speaker again and loudly announces, in order, the dean of the Diplomatic Corps, the chief justice of the United States and the associate justices, and the Cabinet, each of whom enters and'), Document(metadata={'source': 'state_of_the_union.txt'}, page_content=\"and the Cabinet, each of whom enters and takes their seats when called.[25] The justices take the seats nearest to the speaker's rostrum and adjacent to the sections reserved for the Cabinet and the members of the Joint Chiefs of Staff.[26] The sergeants at arms of the House (left) and of the Senate (right) wait at the doorway to the House chamber before President Barack Obama enters to deliver the 2011 State of the Union Address. Just after 9:00\\xa0pm, as the president reaches the door to the\"), Document(metadata={'source': 'state_of_the_union.txt'}, page_content='9:00\\xa0pm, as the president reaches the door to the chamber,[27] the House sergeant at arms stands just inside the doors, faces the speaker, and waits until the president is ready to enter the chamber.[26] When the president is ready, the sergeant at arms announces the entrance, loudly stating the phrase: \"Mister/Madam Speaker, the president of the United States!\"[27] As applause and cheering begin, the president slowly walks toward the speaker\\'s rostrum, followed by members of the congressional'), Document(metadata={'source': 'state_of_the_union.txt'}, page_content=\"rostrum, followed by members of the congressional escort committee.[27] The president's approach is slowed by pausing to shake hands, hug, kiss, and autograph copies of the speech for members of Congress.[26] After taking a place at the clerk's desk,[27] the president hands two envelopes containing copies of the speech to the speaker and vice president. The ovation lasts an average of 2 to 3 minutes[28] After continuing applause from the attendees has diminished, the speaker introduces the\"), Document(metadata={'source': 'state_of_the_union.txt'}, page_content='has diminished, the speaker introduces the president to the representatives and senators, typically stating: \"Members of Congress, I have the high privilege and distinct honor of presenting to you the President of the United States.\"[26][27] This leads to a further round of applause and, eventually, the beginning of the address by the president.[27] The speaker may opt not to introduce the president, as was demonstrated in 2019 and 2024. Designated survivor and other logistics[edit]'), Document(metadata={'source': 'state_of_the_union.txt'}, page_content='Designated survivor and other logistics[edit] Customarily, one cabinet member (the designated survivor) does not attend the speech, in order to provide continuity in the line of succession if a catastrophe disables the president, the vice president, and other succeeding officers gathered in the House chamber. Additionally, since the September 11 attacks in 2001, a few members of Congress have been asked to relocate to undisclosed locations for the duration of the speech to form a rump Congress'), Document(metadata={'source': 'state_of_the_union.txt'}, page_content='duration of the speech to form a rump Congress in the event of a disaster.[29] Since 2003, each chamber of Congress has formally named a separate designated survivor.[30][31] President George W. Bush with Senate President (U.S. vice president) Dick Cheney and House Speaker Nancy Pelosi during the 2007 State of the Union Address. It marked the first time that a woman occupied the House Speaker chair. President Joe Biden with Senate President (U.S. vice president) Kamala Harris and House Speaker'), Document(metadata={'source': 'state_of_the_union.txt'}, page_content=\"vice president) Kamala Harris and House Speaker Pelosi during the 2021 joint session address. It marked the first time that a woman had occupied the Senate President chair. As this speech occurred early during Biden's first year, it is not considered an official State of the Union. Both the speaker and the vice president sit at the speaker's desk, behind the president for the duration of the speech. If either is unavailable, the next highest-ranking member of the respective house substitutes.\"), Document(metadata={'source': 'state_of_the_union.txt'}, page_content=\"member of the respective house substitutes. Once the chamber settles down from the president's arrival, the speaker officially presents the president to the joint session of Congress. The president then delivers the speech from the podium at the front of the House Chamber.[32] For the 2011 address, Senator Mark Udall of Colorado proposed a break in the tradition of seating Republicans and Democrats on opposite sides of the House;[33] this was in response to the 2011 Tucson Shooting in which\"), Document(metadata={'source': 'state_of_the_union.txt'}, page_content=\"in response to the 2011 Tucson Shooting in which Representative Gabby Giffords was shot and wounded in an assassination attempt.[34] Approximately 60 legislators signed on to Udall's proposal;[35] a similar plan for the 2012 address garnered bipartisan seating commitments from more than 160 lawmakers.[34] Efforts to intersperse the parties during the State of the Union have since waned, and by the 2016 address, seating had largely returned to the traditional partisan arrangement.[36] Content of\"), Document(metadata={'source': 'state_of_the_union.txt'}, page_content='traditional partisan arrangement.[36] Content of the speech[edit] President Donald Trump delivering the 2018 State of the Union Address The contents of the speeches typically contain information and status updates of the country and federal government during the incumbent president\\'s administration.[37] It has become customary to use the phrase \"The State of the Union is strong\", sometimes with slight variations, since President Ronald Reagan introduced it in his 1983 address.[38] It has been'), Document(metadata={'source': 'state_of_the_union.txt'}, page_content='it in his 1983 address.[38] It has been repeated by every president in nearly every year since, with the exception of George H. W. Bush.[38] Gerald Ford\\'s 1975 address had been the first to use the phrasing \"The State of the Union is...\", though Ford completed the sentence with \"not good.\"[38] Since Reagan\\'s 1982 address, it has also become common for presidents of both parties to honor special guests sitting in the gallery, such as American citizens or visiting heads of state.[39] During that'), Document(metadata={'source': 'state_of_the_union.txt'}, page_content='or visiting heads of state.[39] During that 1982 address, Reagan acknowledged Lenny Skutnik for his act of heroism following the crash of Air Florida Flight 90.[40] Since then, the term \"Lenny Skutniks\" has been used to refer to individuals invited to sit in the gallery, and then cited by the president, during the State of the Union.[41][42] State of the Union speeches usually last a little over an hour, partly because of the large amounts of applause that occur from the audience throughout.'), Document(metadata={'source': 'state_of_the_union.txt'}, page_content=\"applause that occur from the audience throughout. The applause is often political in tone, with many portions of the speech being applauded only by members of the president's own party. As non-political officeholders, members of the Supreme Court or the Joint Chiefs of Staff rarely applaud in order to retain the appearance of political impartiality. In recent years, the presiding officers of the House and the Senate, the speaker and the vice president, respectively, have departed from the\"), Document(metadata={'source': 'state_of_the_union.txt'}, page_content=\"president, respectively, have departed from the neutrality expected of presiding officers of deliberative bodies, as they, too, stand and applaud in response to the remarks of the president with which they agree.[citation needed] Opposition response[edit] Main article: Response to the State of the Union address Since 1966,[43] the speech has been followed on television by a response or rebuttal by a member of the major political party opposing the president's party. The response is typically\"), Document(metadata={'source': 'state_of_the_union.txt'}, page_content=\"the president's party. The response is typically broadcast from a studio with no audience. In 1970, the Democratic Party put together a TV program with their speech to reply to President Nixon, as well as a televised response to Nixon's written speech in 1973.[44] The same was done by Democrats for President Reagan's speeches in 1982 and 1985. The response is not always produced in a studio; in 1997, the Republicans for the first time delivered the response in front of high school students.[45]\"), Document(metadata={'source': 'state_of_the_union.txt'}, page_content=\"response in front of high school students.[45] In 2010, Virginia governor Bob McDonnell gave the Republican response from the House of Delegates chamber of the Virginia State Capitol in Richmond, in front of about 250 attendees.[46] In 2004, the Democratic Party's response was delivered in Spanish for the first time, by New Mexico governor Bill Richardson.[47] In 2011, Minnesota Congresswoman Michele Bachmann also gave a televised response for the Tea Party Express, a first for a political\"), Document(metadata={'source': 'state_of_the_union.txt'}, page_content=\"the Tea Party Express, a first for a political movement.[48] In 2024, the Republican response was delivered by Senator Katie Britt on March 8 (Women's International Day) from her kitchen table. The first Independent response was delivered by Robert F. Kennedy Jr.[49] Significance[edit] Although much of the pomp and ceremony behind the State of the Union address is governed by tradition rather than law, in modern times, the event is seen as one of the most important in the US political calendar.\"), Document(metadata={'source': 'state_of_the_union.txt'}, page_content='the most important in the US political calendar. It is one of the few instances when all three branches of the US government are assembled under one roof: members of both houses of Congress constituting the legislature, the president and Cabinet constituting the executive, and the chief justice and associate justices of the Supreme Court constituting the judiciary. In addition, the military is represented by the Joint Chiefs of Staff, while foreign governments are represented by the dean of the'), Document(metadata={'source': 'state_of_the_union.txt'}, page_content='governments are represented by the dean of the Diplomatic Corps. The address has also been used as an opportunity to honor the achievements of some ordinary Americans, who are typically invited by the president to sit with the first lady.[42] Local versions[edit] Certain U.S. states have a similar annual address given by the governor. For most of them, it is called the State of the State address. In Iowa, it is called the Condition of the State Address; in Kentucky, Massachusetts, Pennsylvania,'), Document(metadata={'source': 'state_of_the_union.txt'}, page_content='in Kentucky, Massachusetts, Pennsylvania, and Virginia, the speech is called the State of the Commonwealth address. The mayor of the District of Columbia gives a State of the District address. American Samoa has a State of the Territory address given by the governor. Puerto Rico has a State Address given by the governor. In Guam, the governor delivers an annual State of the Island Address. Some cities or counties also have an annual State of the City Address given by the mayor, county'), Document(metadata={'source': 'state_of_the_union.txt'}, page_content='of the City Address given by the mayor, county commissioner or board chair, including Sonoma County, California; Orlando, Florida; Gwinnett County, Georgia;[50] Cincinnati, Ohio; New Haven, Connecticut; Parma, Ohio; Detroit, Michigan; Seattle, Washington; Birmingham, Alabama; Boston, Massachusetts; Los Angeles, California; Buffalo, New York; Rochester, New York; San Antonio, Texas; McAllen, Texas; and San Diego, California. The Mayor of the Metropolitan Government of Nashville and Davidson'), Document(metadata={'source': 'state_of_the_union.txt'}, page_content='Metropolitan Government of Nashville and Davidson County in Nashville, Tennessee gives a speech similar called the State of Metro Address. Some university presidents give a State of the University address at the beginning of every academic term.[51][52] Some elementary and secondary schools and school districts also hold a \"State of the School(s)\" address at the beginning of each calendar year. Private companies usually have a \"State of the Corporation\" or \"State of the Company\" address given'), Document(metadata={'source': 'state_of_the_union.txt'}, page_content='or \"State of the Company\" address given by the respective CEO.[53] As well, the commissioners of some North American professional sports leagues, in particular Major League Soccer and the Canadian Football League, deliver annual \"State of the League\" addresses, usually in conjunction with events surrounding their respective leagues\\' championship games. The State of the Union model has also been adopted by the European Union.[54] In France, President Emmanuel Macron initiated a similar event in'), Document(metadata={'source': 'state_of_the_union.txt'}, page_content='Emmanuel Macron initiated a similar event in 2017, again in 2018, but the practice did not continue the following years.[55] In Spain, the Congress of Deputies adopted the tradition under the name \"Debate on the State of the Nation\" in 1983. The Prime Minister gives an address for an undetermined length of time, and afterwards each of the parliamentary groups have the chance to respond in an address with a maximum length of thirty minutes. These are sorted by the amount of deputies that each'), Document(metadata={'source': 'state_of_the_union.txt'}, page_content='are sorted by the amount of deputies that each parliamentary group holds, thus starting with the leader of the Opposition. Since its creation, it has taken place in every non-election year except for 2021, where Prime Minister Pedro Sánchez was forced to cancel it due to the COVID-19 pandemic.[56][57] Historic speeches[edit] Franklin Roosevelt proposing a Second Bill of Rights, 1944 Freedom from Fear from Norman Rockwell, 1943 President James Monroe first stated the Monroe Doctrine during his'), Document(metadata={'source': 'state_of_the_union.txt'}, page_content='first stated the Monroe Doctrine during his seventh annual State of the Union Address to Congress on December 2, 1823. It became a defining moment in the foreign policy of the United States and one of its longest-standing tenets, and would be invoked by many U.S. statesmen and several U.S. presidents, including Theodore Roosevelt, John F. Kennedy, and Ronald Reagan.[58] The Four Freedoms were goals first articulated by Franklin D. Roosevelt on January 6, 1941. In an address known as the Four'), Document(metadata={'source': 'state_of_the_union.txt'}, page_content='January 6, 1941. In an address known as the Four Freedoms speech, he proposed four fundamental freedoms that people \"everywhere in the world\" ought to enjoy: freedom of speech and expression, freedom of worship, freedom from want, and freedom from fear.[59] During his State of the Union Address on January 11, 1944, FDR proposed the Second Bill of Rights. Roosevelt\\'s argument was that the \"political rights\" guaranteed by the constitution and the Bill of Rights had \"proved inadequate to assure us'), Document(metadata={'source': 'state_of_the_union.txt'}, page_content='of Rights had \"proved inadequate to assure us equality in the pursuit of happiness\".[60] This was technically a \"Message\" and not a speech, as Roosevelt had \"a case of the grippe\" and could not come; there was no joint session, and a Senate clerk read the message. (Although he did manage to read it as a Fireside Chat over the radio, from his office that same day.)[61] During his State of the Union address on January 8, 1964, Lyndon B. Johnson introduced legislation that would come to be known'), Document(metadata={'source': 'state_of_the_union.txt'}, page_content='legislation that would come to be known as the \"War on Poverty\". This legislation was proposed by Johnson in response to a national poverty rate of around nineteen percent. The speech led the United States Congress to pass the Economic Opportunity Act, which established the Office of Economic Opportunity (OEO) to administer the local application of federal funds targeted against poverty.[62] During his State of the Union address on January 15, 1975, Gerald R. Ford very bluntly stated that \"the'), Document(metadata={'source': 'state_of_the_union.txt'}, page_content='Gerald R. Ford very bluntly stated that \"the state of the Union is not good: Millions of Americans are out of work.... We depend on others for essential energy. Some people question their Government\\'s ability to make hard decisions and stick with them; they expect Washington politics as usual.\" Ford said he did not \"expect much if any, applause. The American people want action, and it will take both the Congress and the president to give them what they want. Progress and solutions can be'), Document(metadata={'source': 'state_of_the_union.txt'}, page_content='what they want. Progress and solutions can be achieved, and they will be achieved.\"[63] George W. Bush delivering the 2002 State of the Union During his State of the Union address on January 29, 2002, President Bush identified North Korea, Iran, and Iraq as representing significant threats to the United States. He said, \"States like these and their terrorist allies constitute an axis of evil, arming to threaten the peace of the world\". In this speech, he outlined objectives for the War on'), Document(metadata={'source': 'state_of_the_union.txt'}, page_content='speech, he outlined objectives for the War on Terror.[64] TV ratings[edit] Television ratings for recent State of the Union addresses[65][66] Date President Viewers, millions Households, millions Rating Networks 2025-03-04 Donald Trump TBA TBA TBA TBA 2024-03-07 Joe Biden 32.30 TBA TBA ABC, CBS, NBC, FOX, Telemundo, Univision, PBS, CNN, CNNe, Fox Business, Fox News Channel, MSNBC, Newsmax, NewsNation 2023-02-07 27.30 20.00 16.1 ABC, CBS, NBC, FOX, Telemundo, Univision, PBS, CNBC, CNN, CNNe, Fox'), Document(metadata={'source': 'state_of_the_union.txt'}, page_content='Telemundo, Univision, PBS, CNBC, CNN, CNNe, Fox Business, Fox News Channel, MSNBC, NBCLX, NewsMax, NewsNation 2022-03-01 38.20 27.41 22.4 ABC, CBS, NBC, FOX, Telemundo, Univision, PBS, Black News Channel, CNBC, CNN, CNNe, Fox Business, Fox News Channel, MNBC, NBCLX, Newsmax, NewsNation 2021-04-28 26.90 19.95 16.5 ABC, CBS, NBC, FOX, Telemundo, Univision, PBS, CNN, CNNe, CNBC, Fox Business, Fox News Channel, MSNBC, Newsmax, NewsNation, Newsy 2020-02-04 Donald Trump 37.17 27.46 22.7 ABC, CBS,'), Document(metadata={'source': 'state_of_the_union.txt'}, page_content='Donald Trump 37.17 27.46 22.7 ABC, CBS, NBC, FOX, Telemundo, Univision, PBS, CNN, CNNe, Fox Business, Fox News Channel, MSNBC 2019-02-05 46.79 33.62 28.0 ABC, CBS, NBC, FOX, Telemundo, Univision, PBS, CNN, CNNe, FOX Business, Fox News Channel, MSNBC 2018-01-30 45.55 32.17 26.9 ABC, CBS, NBC, FOX, Telemundo, Univision, PBS, CNN, Estrella, FOX Business, Fox News Channel, MSNBC 2017-02-28 33.85 28.7 ABC, CBS, NBC, FOX, Telemundo, Univision, PBS, CNN, Estrella, FOX Business, Fox News Channel, MSNBC'), Document(metadata={'source': 'state_of_the_union.txt'}, page_content='Estrella, FOX Business, Fox News Channel, MSNBC 2016-01-12 Barack Obama 31.33 23.04 19.6 ABC, CBS, NBC, FOX, Univision, Al Jazeera America, Azteca America, CNN, FOX Business, Fox News Channel, Galavision, MSNBC, NBC Universo 2015-01-20 31.71 23.14 19.9 ABC, CBS, NBC, FOX, Univision, Al Jazeera America, Azteca America, CNN, FOX Business, Fox News Channel, Galavision, MSNBC, MundoFox 2014-01-28 33.30 23.95 20.7 ABC, CBS, NBC, FOX, Univision, Al Jazeera America, Azteca America, CNBC, CNN, FOX'), Document(metadata={'source': 'state_of_the_union.txt'}, page_content='Jazeera America, Azteca America, CNBC, CNN, FOX Business, Fox News Channel, Galavision, MSNBC, MUN2 2013-02-12 33.50 24.77 21.8 ABC, CBS, NBC, FOX, Univision, PBS, Azteca America, Centric, CNBC, CNN, Current, FOX Business, Fox News Channel, Galavision, MSNBC, MundoFox 2012-01-24 37.75 27.57 24.0 ABC, CBS, NBC, FOX, Telemundo, Univision, CNBC, CNN, FOX Business, Fox News Channel, Galavision, MSNBC, MUN2, Telefutura 2011-01-25 42.79 30.87 26.6 ABC, CBS, NBC, FOX, Telemundo, Univision, CNN,'), Document(metadata={'source': 'state_of_the_union.txt'}, page_content='ABC, CBS, NBC, FOX, Telemundo, Univision, CNN, Centric, CNBC, Fox News Channel, MSNBC 2010-01-27 48.01 34.18 29.8 ABC, CBS, NBC, FOX, Telemundo, Univision, CNN, BET, CNBC, Fox News Channel, MSNBC 2009-02-24 52.37 37.18 32.5 ABC, CBS, NBC, FOX, Telemundo, Univision, CNN, Fox News Channel, MSNBC 2008-01-28 George W. Bush 37.52 27.70 24.7 ABC, CBS, NBC, FOX, Telemundo, Univision, CNN, Fox News Channel, MSNBC 2007-01-24 45.49 32.97 29.6 ABC, CBS, NBC, FOX, Telemundo, Univision, CNN, Fox News'), Document(metadata={'source': 'state_of_the_union.txt'}, page_content='NBC, FOX, Telemundo, Univision, CNN, Fox News Channel, MSNBC 2006-01-31 43.18 30.53 31.2 ABC, CBS, NBC, FOX, Telemundo, CNN, Fox News Channel, MSNBC, Azteca America, Telefutura 2005-02-02 39.43 28.36 35.3 ABC, CBS, NBC, FOX, Telemundo, CNN, Fox News Channel, MSNBC, Telefutura 2004-01-20 43.41 30.29 28.0 ABC, CBS, NBC, FOX, CNN, CNBC, Fox News Channel, MSNBC 2003-01-28 62.06 41.48 38.8 ABC, CBS, NBC, FOX, CNN, CNBC, Fox News Channel, MSNBC 2002-01-29 51.77 35.55 33.6 ABC, CBS, NBC, FOX, CNN,'), Document(metadata={'source': 'state_of_the_union.txt'}, page_content='51.77 35.55 33.6 ABC, CBS, NBC, FOX, CNN, CNBC, Fox News Channel, MSNBC 2001-02-27 39.79 TBA 27.6 ABC, CBS, FOX, NBC, CNN, FOXNC, MSNBC 2000-01-27 Bill Clinton 31.48 22.54 22.4 ABC, CBS, NBC, FOX, CNN, Fox News Channel, MSNBC 1999-01-19 43.50 30.70 31.0 ABC, CBS, NBC, FOX, CNN, Fox News Channel, MSNBC 1998-01-27 53.08 36.51 37.2 ABC, CBS, NBC, FOX, CNN, Fox News Channel, MSNBC, CNBC 1997-02-04 41.10 27.60 28.4 ABC, CBS, NBC, FOX, CNN 1996-01-23 40.90 28.40 29.6 ABC, CBS, NBC, FOX, CNN'), Document(metadata={'source': 'state_of_the_union.txt'}, page_content='40.90 28.40 29.6 ABC, CBS, NBC, FOX, CNN 1995-01-24 42.20 28.10 29.5 ABC, CBS, NBC, CNN 1994-01-25 45.80 31.00 32.9 ABC, CBS, NBC, CNN See also[edit] List of State of the Union addresses List of joint sessions of the United States Congress State Opening of Parliament Weekly address of the president of the United States References[edit] ^ Hendrix, J. A. (Summer 1966). \"Presidential addresses to congress: Woodrow Wilson and the Jeffersonian tradition\". The Southern Speech Journal. 31 (4):'), Document(metadata={'source': 'state_of_the_union.txt'}, page_content='tradition\". The Southern Speech Journal. 31 (4): 285–294. doi:10.1080/10417946609371831. ^ a b c Peters, Gerhard; T. Woolley, John. Peters, Gerhard; T. Woolley, John (eds.). \"State of the Union Addresses and Messages: research notes by Gerhard Peters\". Santa Barbara, CA: University of California: The American Presidency Project (APP). Archived from the original on April 6, 2012. Retrieved January 24, 2017. ^ a b c \"State of the Union Address | US House of Representatives: History, Art &'), Document(metadata={'source': 'state_of_the_union.txt'}, page_content='| US House of Representatives: History, Art & Archives\". history.house.gov. Archived from the original on February 2, 2018. Retrieved January 28, 2018. ^ a b Diaz, Daniella (February 28, 2017). \"Why Trump\\'s Tuesday speech isn\\'t a State of the Union address\". CNN. Archived from the original on January 25, 2018. Retrieved February 28, 2017. ^ \"Ben\\'s Guide to U.S. Government\". United States Government Printing Office. Archived from the original on February 25, 2009. ^ \"31.7 Million Viewers Tune in'), Document(metadata={'source': 'state_of_the_union.txt'}, page_content='25, 2009. ^ \"31.7 Million Viewers Tune in to Watch Pres. Obama\\'s State of the Union Address\" (Press release). The Nielsen Company. January 21, 2015. Archived from the original on April 2, 2019. Retrieved August 12, 2015. On Tuesday, Jan. 20, 2015, President Barack Obama delivered his annual State of the Union address. The address was carried live from 9:00 p.m. to 10:15 p.m. on 13 networks and tape-delayed on Univision. ^ a b c d e J. Shagan, Colleen (January 16, 2014). The President\\'s State of'), Document(metadata={'source': 'state_of_the_union.txt'}, page_content='(January 16, 2014). The President\\'s State of the Union Address: Tradition, Function, and Policy Implications (PDF). Congressional Research Service. p.\\xa02. Archived (PDF) from the original on September 9, 2024. Retrieved January 24, 2014. ^ Kesavan, Vasan; Gregory Sidak, J. (October 2002). \"The Legislator-In-Chief\". William and Mary Law Review. 44 (1). I. The State Of The Union Clause. Archived from the original on September 9, 2024. Retrieved June 28, 2012. ^ \"State of the Union: Five facts'), Document(metadata={'source': 'state_of_the_union.txt'}, page_content='June 28, 2012. ^ \"State of the Union: Five facts about the famous US speech\". Newsround. February 5, 2020. Archived from the original on September 9, 2024. Retrieved January 5, 2022. ^ Peters, Gerhard; T. Woolley, John. T. Wolley, John; Peters, Gerhard (eds.). \"State of the Union Messages\". The American Presidency Project. Archived from the original on September 9, 2024. Retrieved September 25, 2006. ^ a b c Kreiser, Maria; Greene, Micheal; Kolakowski, Michael & Neale, Thomas H. (January 29,'), Document(metadata={'source': 'state_of_the_union.txt'}, page_content='Michael & Neale, Thomas H. (January 29, 2024). \"History, Evolution, and Practices of the President\\'s State of the Union Address: Frequently Asked Questions\" (PDF). Congressional Research Service. Archived (PDF) from the original on October 9, 2022. Retrieved April 28, 2021. ^ \"The Speech: Where and When\". Office of Art and Archives, Office of the Historian. Archived from the original on September 9, 2024. ^ Yoon, Robert (February 12, 2013). \"State of the Union firsts\". CNN. Archived from the'), Document(metadata={'source': 'state_of_the_union.txt'}, page_content='of the Union firsts\". CNN. Archived from the original on September 9, 2024. Retrieved September 29, 2017. ^ \"The First Evening Annual Message\". history.house.gov. Office of the Historian. January 3, 1936. Archived from the original on September 9, 2024. Retrieved January 18, 2019. ^ Kurlansky, Mark (2004). 1968: The Year That Rocked the World. New York: Ballantine. p.\\xa044. ISBN\\xa00-9659111-4-4. ^ Office of the Clerk. Joint Meetings, Joint Sessions, and Inaugurations. United States House of'), Document(metadata={'source': 'state_of_the_union.txt'}, page_content='and Inaugurations. United States House of Representatives. Archived from the original on January 18, 2011. ^ \"Address to the nation on the Challenger disaster\". Ronald Reagan Presidential Library. January 28, 1986. Archived from the original on February 19, 2012. Retrieved July 4, 2006. ^ a b Weinraub, Bernard (January 29, 1986). \"The Shuttle Explosion: Reagan Postpones State of the Union Speech\". The New York Times. p.\\xa0A9. Archived from the original on September 9, 2024. ^ Bresnahan, John;'), Document(metadata={'source': 'state_of_the_union.txt'}, page_content='original on September 9, 2024. ^ Bresnahan, John; Samuelsohn, Darren (December 20, 2019). \"Pelosi invites Trump to deliver State of the Union on Feb. 4\". Politico. Archived from the original on September 9, 2024. Retrieved December 20, 2019. In January 1999, Bill Clinton\\'s defense team delivered its opening statement in the president\\'s Senate trial on the same day the Democrat gave his second-to-last State of the Union address. ^ Liptak, Kevin; Raju, Manu; Killough, Ahley (January 23, 2019).'), Document(metadata={'source': 'state_of_the_union.txt'}, page_content='Raju, Manu; Killough, Ahley (January 23, 2019). \"Pelosi denies Trump use of House chamber for State of the Union\". Washington: CNN. Archived from the original on September 9, 2024. Retrieved January 24, 2019. ^ Haltiwanger, John (January 25, 2019). \"Trump is right, he\\'s the first president in US history to be disinvited from delivering the State of the Union\". Business Insider. Archived from the original on September 9, 2024. Retrieved January 24, 2019. ^ Stolberg, Sheryl Gay (January 28,'), Document(metadata={'source': 'state_of_the_union.txt'}, page_content='24, 2019. ^ Stolberg, Sheryl Gay (January 28, 2019). \"Trump to Deliver State of the Union Next Week\". The New York Times. Washington. ISSN\\xa00362-4331. Archived from the original on September 9, 2024. Retrieved February 4, 2019. ^ \"Speaker Boehner Extends President Obama Formal Invitation to Deliver State of the Union Address\" (Press release). Speaker Boehner\\'s Press Office. January 11, 2011. Archived from the original on January 7, 2017. ^ \"State of the Union 2015\" (Press release). Washington,'), Document(metadata={'source': 'state_of_the_union.txt'}, page_content='of the Union 2015\" (Press release). Washington, DC: Speaker Boehner\\'s Press Office. December 19, 2014. Archived from the original on January 3, 2017. ^ a b c d \"Joint Session of Congress Pursuant to House Concurrent Resolution 228 to Receive a Message from the President\" (PDF). Congressional Record: H414. January 27, 2010. Archived (PDF) from the original on October 9, 2022. ^ a b c d Blitzer, Wolf; Malveaux, Suzanne; Acosta, Jim; Yellin, Jessica; King, John; Borger, Gloria; Toobin, Jeffrey;'), Document(metadata={'source': 'state_of_the_union.txt'}, page_content='King, John; Borger, Gloria; Toobin, Jeffrey; Henry, Ed; Bash, Dana; Schneider, William (January 28, 2008). \"President Delivers State of the Union Address\" (Transcript). CNN. Archived from the original on September 9, 2024. ^ a b c d e f \"Joint Session of Congress Pursuant to House Concurrent Resolution 228 to Receive a Message from the President\" (PDF). Congressional Record: H415. January 27, 2010. Archived (PDF) from the original on October 9, 2022. ^ Dukakis, Alexandra (January 28, 2014).'), Document(metadata={'source': 'state_of_the_union.txt'}, page_content='9, 2022. ^ Dukakis, Alexandra (January 28, 2014). \"The 7 Strangest State of the Union Rituals\". ABC News. Archived from the original on September 9, 2024. Retrieved May 25, 2024. ^ Roberts, Roxanne (September 20, 2016). \"The truth behind the \\'designated survivor,\\' the president of the post-apocalypse\". The Washington Post. Archived from the original on January 25, 2021. Retrieved January 31, 2018. ^ Schultheis, Emily (February 28, 2017). \"Joint session 2017: The history of the \"designated'), Document(metadata={'source': 'state_of_the_union.txt'}, page_content='session 2017: The history of the \"designated survivor\"\". CBS News. Archived from the original on December 4, 2020. Retrieved January 31, 2018. ^ Oritz, Erik (January 30, 2018). \"Designated survivors recount nights as doomsday presidents\". NBC News. Archived from the original on January 14, 2021. Retrieved January 31, 2018. ^ Forrest, Jack; Mullery, Will (March 7, 2024). \"Who sits where at the State of the Union: A visual guide\". CNN. Archived from the original on September 9, 2024. Retrieved'), Document(metadata={'source': 'state_of_the_union.txt'}, page_content='from the original on September 9, 2024. Retrieved September 9, 2024. ^ Epstein, Jennifer (January 13, 2011). \"Mark Udall wants parties together at State of the Union\". Politico. Archived from the original on September 9, 2024. ^ a b Hennessey, Kathleen (January 21, 2012). \"Rival parties to mix it up – nicely – at State of the Union\". Los Angeles Times. Washington, D.C. Archived from the original on September 9, 2024. ^ Sonmez, Felicia. \"44 - Sixty lawmakers back bipartisan State of the Union'), Document(metadata={'source': 'state_of_the_union.txt'}, page_content='lawmakers back bipartisan State of the Union seating plan\". The Washington Post. Archived from the original on January 22, 2011. Retrieved April 14, 2021. ^ Singer, Paul. \"State of the Union bipartisan seating stunt fizzles\". USA Today. Archived from the original on September 9, 2024. Retrieved April 14, 2021. ^ Widmer, Ted (January 31, 2006). \"The State of the Union Is Unreal\". The New York Times. Archived from the original on January 2, 2014. Retrieved January 22, 2007. ^ a b c Desjardins,'), Document(metadata={'source': 'state_of_the_union.txt'}, page_content='Retrieved January 22, 2007. ^ a b c Desjardins, Lisa (January 30, 2018). \"The word nearly every president uses to describe the state of the union\". PBS NewsHour. Archived from the original on February 9, 2021. Retrieved February 7, 2019. ^ Arrigo, Anthony F. (February 4, 2019). \"Look out for the \\'Skutnik\\' during Trump\\'s State of the Union\". The Conversation US. Archived from the original on March 14, 2021. Retrieved February 4, 2019. ^ O\\'Keefe, Ed (January 24, 2012). \"Three decades of'), Document(metadata={'source': 'state_of_the_union.txt'}, page_content='O\\'Keefe, Ed (January 24, 2012). \"Three decades of \\'Skutniks\\' began with a federal employee\". Washington Post. Archived from the original on December 26, 2020. Retrieved January 26, 2012. ^ Wiggin, Addison (January 25, 2011). \"Small Business Owners Should Be Obama\\'s Lenny Skutnik\". Forbes. Archived from the original on January 25, 2021. Retrieved January 24, 2012. ^ a b Clines, Francis X. (August 24, 1996). \"Bonding as New Political Theater: Bring On the Babies and Cue the Yellow Dog\". The New'), Document(metadata={'source': 'state_of_the_union.txt'}, page_content='On the Babies and Cue the Yellow Dog\". The New York Times. Archived from the original on March 1, 2009. Retrieved January 24, 2012. ^ Office of the Clerk. \"Opposition Responses to State of the Union Messages (1966–present)\". United States House of Representatives. Archived from the original on January 31, 2007. Retrieved January 23, 2007. ^ Frum, David (2000). How We Got Here: The \\'70s. New York: Basic Books. p.\\xa047. ISBN\\xa00-465-04195-7. ^ Sincere, Richard E. Jr. (February 1997). \"O.J., J.C., and'), Document(metadata={'source': 'state_of_the_union.txt'}, page_content='Richard E. Jr. (February 1997). \"O.J., J.C., and Bill: Reflections on the State of the Union\". Metro Herald. Archived from the original on July 31, 2002. Retrieved January 23, 2007. Watts told his audience—about 100 high school students from the CloseUp Foundation watched in person, while a smaller number watched on television at home—that he is \\'old enough to remember the Jim Crow\\' laws that affected him and his family while he grew up in a black neighborhood in small-town Oklahoma. ^ Kumar,'), Document(metadata={'source': 'state_of_the_union.txt'}, page_content='neighborhood in small-town Oklahoma. ^ Kumar, Anita (January 28, 2010). \"Virginia Gov. McDonnell gives Republican Party response to State of the Union\". The Washington Post. Archived from the original on January 25, 2021. Retrieved January 17, 2019. ^ York, Byron (January 21, 2004). \"The Democratic Response You Didn\\'t See\". National Review. Archived from the original on February 9, 2020. Retrieved January 23, 2007. And then there was the Spanish-language response—the first ever—delivered by New'), Document(metadata={'source': 'state_of_the_union.txt'}, page_content='response—the first ever—delivered by New Mexico governor, and former Clinton energy secretary, Bill Richardson. ^ \"Michele Bachmann offers Tea Party response to President Obama\\'s State of the Union Address\". The Washington Post. January 26, 2011. Archived from the original on January 25, 2021. Retrieved January 15, 2015. ^ Hains, Tim (March 11, 2024). \"Robert F. Kennedy Jr. \"State Of The Union\" Address: 80% Of Americans Don\\'t Want To Choose Between The Lesser Of Two Evils\". RealClear Politics.'), Document(metadata={'source': 'state_of_the_union.txt'}, page_content='The Lesser Of Two Evils\". RealClear Politics. Archived from the original on September 9, 2024. Retrieved March 11, 2024. ^ \"Official page on Gwinnett County Website\". Archived from the original on March 8, 2022. Retrieved March 9, 2022. ^ \"UNH State of the University 2015\". The University of New Hampshire (Press release). February 17, 2015. Archived from the original on July 22, 2015. Retrieved August 12, 2015. ^ \"State of the University 2015\" (Press release). Santa Clara University. February'), Document(metadata={'source': 'state_of_the_union.txt'}, page_content='(Press release). Santa Clara University. February 19, 2015. Archived from the original on September 8, 2015. Retrieved August 12, 2015. ^ Goldman, Jeremy (January 20, 2015). \"Why Your Company Deserves a \\'State of the Union\\' Address\". Inc. Archived from the original on December 3, 2020. Retrieved August 12, 2015. ^ Rettman, Andrew (September 7, 2010). \"EU has survived economic crisis, Barroso says in first State of Union address\". EUobserver. Brussels. Archived from the original on May 3, 2012.'), Document(metadata={'source': 'state_of_the_union.txt'}, page_content='Archived from the original on May 3, 2012. Retrieved September 7, 2010. ^ Briançon, Pierre (July 3, 2017). \"Macron lacks fire in first \\'state of the union\\' à la française\". Politico. Paris. Archived from the original on September 9, 2024. Retrieved September 9, 2024. ^ \"Debates sobre el Estado de la Nación - Congreso de los Diputados\" [Debates On The State Of The Nation] (in Spanish). Congress of Deputies. Archived from the original on September 9, 2024. Retrieved March 17, 2024. ^ \"Pedro'), Document(metadata={'source': 'state_of_the_union.txt'}, page_content='9, 2024. Retrieved March 17, 2024. ^ \"Pedro Sánchez anuncia que el próximo año se celebrará el debate sobre el estado de la nación\" [Pedro Sánchez announces that the debate on the state of the nation will be held next year] (Press release) (in Spanish). Congress of Deputies, Spain: Prime Minister\\'s Office (Spain). December 15, 2021. Archived from the original on September 9, 2024. Retrieved March 17, 2024. ^ \"Monroe Doctrine (1823)\". ourdocuments.gov. Archived from the original on March 10,'), Document(metadata={'source': 'state_of_the_union.txt'}, page_content='Archived from the original on March 10, 2021. Retrieved January 7, 2020. ^ \"The Four Freedoms\". Four Freedoms Park Conservancy. Archived from the original on January 25, 2021. Retrieved January 7, 2020. ^ \"State of the Union Message to Congress\". Franklin D. Roosevelt Presidential Library and Museum. Archived from the original on August 18, 2010. Retrieved January 7, 2020. ^ Drury, Allen (1963). A Senate Journal: 1943–1945. McGraw-Hill Book Company, Inc.Drury, 1963, pp. 43–46, and 53. ^'), Document(metadata={'source': 'state_of_the_union.txt'}, page_content='Company, Inc.Drury, 1963, pp. 43–46, and 53. ^ \"President Lyndon Johnson\\'s 1964 State of the Union Address called for a war on poverty\". LBJ Presidential Library. Archived from the original on March 16, 2021. Retrieved February 6, 2019. ^ \"Gerald R. Ford Presidential Library and Museum\". Ford Library Museum. Archived from the original on October 24, 2020. Retrieved February 6, 2019. ^ \"President Delivers State of the Union Address\". georgewbush-whitehouse.archives.gov. Archived from the'), Document(metadata={'source': 'state_of_the_union.txt'}, page_content='Archived from the original on May 2, 2009. Retrieved February 6, 2019. ^ Stoll, Julia (March 11, 2024). \"Number of viewers of the State of the Union addresses from 1993 to 2024\". Archived from the original on September 9, 2024. Retrieved September 9, 2024 – via Statista. ^ \"2024 State of the Union Address Draws Over 32 Million Viewers\". Nielsen. Retrieved September 12, 2024. External links[edit] Wikimedia Commons has media related to State of the Union. English Wikisource has original text'), Document(metadata={'source': 'state_of_the_union.txt'}, page_content='the Union. English Wikisource has original text related to this article: Portal:State of the Union Speeches by United States Presidents The American Presidency Project: State of the Union Messages, table of all State of the Union Addresses from 1790 to present, with additional data such as word count and guests, from the American Presidency Project at UCSB; as well as other documents related to the presidency of the Union videos and transcripts at C-SPAN (since 1945) State of the Union'), Document(metadata={'source': 'state_of_the_union.txt'}, page_content=\"at C-SPAN (since 1945) State of the Union (Visualizations, statistical analysis, and searchable texts) State of the Union Addresses of American Presidents (1790–2002) (in downloadable electronic file formats) Top 10 State of the Union Addresses, RealClearPolitics.com Corpus of Political Speeches: free access to political speeches by American and other politicians, developed by Hong Kong Baptist University Library vteState of the Union (list) Joint session of Congress list President's guests\"), Document(metadata={'source': 'state_of_the_union.txt'}, page_content=\"Joint session of Congress list President's guests Designated survivor Responses State of the State State of the City Washington Jan. 1790 Dec. 1790 1791 1792 1793 1794 1795 1796 J. Adams 1797 1798 1799 1800 Jefferson 1801 1802 1803 1804 1805 1806 1807 1808 Madison 1809 1810 1811 1812 1813 1814 1815 1816 Monroe 1817 1818 1819 1820 1821 1822 1823 (Monroe Doctrine) 1824 J. Q. Adams 1825 1826 1827 1828 Jackson 1829 1830 1831 1832 1833 1834 1835 1836 Van Buren 1837 1838 1839 1840 W. Harrison None\"), Document(metadata={'source': 'state_of_the_union.txt'}, page_content='Van Buren 1837 1838 1839 1840 W. Harrison None Tyler 1841 1842 1843 1844 Polk 1845 1846 1847 1848 Taylor 1849 Fillmore 1850 1851 1852 Pierce 1853 1854 1855 1856 Buchanan 1857 1858 1859 1860 Lincoln 1861 1862 1863 1864 A. Johnson 1865 1866 1867 1868 Grant 1869 1870 1871 1872 1873 1874 1875 1876 Hayes 1877 1878 1879 1880 Garfield None Arthur 1881 1882 1883 1884 Cleveland (1) 1885 1886 1887 1888 B. Harrison 1889 1890 1891 1892 Cleveland (2) 1893 1894 1895 1896 McKinley 1897 1898 1899 1900 T.'), Document(metadata={'source': 'state_of_the_union.txt'}, page_content='1894 1895 1896 McKinley 1897 1898 1899 1900 T. Roosevelt 1901 1902 1903 1904 (Roosevelt Corollary) 1905 1906 1907 1908 Taft 1909 1910 1911* 1912* Wilson 1913 1914 1915 1916 1917 1918 1919 1920 Harding 1921 1922 Coolidge 1923 1924 1925 1926 1927 1928 Hoover 1929 1930 1931 1932 F. Roosevelt 1934 1935 1936 1937 1938 1939 1940 1941 (Four Freedoms) 1942 1943 1944 (Second Bill of Rights) 1945 Truman 1946 1947 1948 1949 (Fair Deal) 1950 1951 1952 1953 Eisenhower 1953 1954 1955 1956 1957 1958 1959 1960'), Document(metadata={'source': 'state_of_the_union.txt'}, page_content='1953 1954 1955 1956 1957 1958 1959 1960 1961 Kennedy 1961 1962 1963 L. Johnson 1964 (War on poverty) 1965 1966 1967 1968 1969 Nixon 1970 1971 1972† 1973* 1974† Ford 1975 1976 1977 Carter 1978† 1979† 1980† 1981 Reagan 1981‡ 1982 1983 1984 1985 1986 1987 1988 G. H. W. Bush 1989‡ 1990 1991 1992 Clinton 1993‡ 1994 1995 1996 1997 1998 1999 2000 G. W. Bush 2001‡ 2002 2003 2004 2005 2006 2007 2008 Obama 2009‡ 2010 2011 2012 2013 2014 2015 2016 Trump (1) 2017‡ 2018 2019 2020 Biden 2021‡ 2022 2023 2024'), Document(metadata={'source': 'state_of_the_union.txt'}, page_content='2017‡ 2018 2019 2020 Biden 2021‡ 2022 2023 2024 Trump (2) 2025‡ Legend: Address to Joint Session Written message Written message with national radio address* Split into multiple parts † Included a detailed written supplement ‡ Not officially a \"State of the Union\"Presidents William Henry Harrison (1841) and James Garfield (1881) died in office before delivering a State of the Union vteState of the Nations Belarus Ghana Philippines Russia Somaliland South Africa United States Retrieved from'), Document(metadata={'source': 'state_of_the_union.txt'}, page_content='South Africa United States Retrieved from \"https://en.wikipedia.org/w/index.php?title=State_of_the_Union&oldid=1296761570\" Categories: State of the Union addresses1790 establishments in the United StatesAnnual events in Washington, D.C.Article Two of the United States ConstitutionSpeeches by heads of stateHidden categories: CS1 Spanish-language sources (es)Articles with short descriptionShort description matches WikidataUse mdy dates from March 2024Articles with hAudio microformatsAll articles'), Document(metadata={'source': 'state_of_the_union.txt'}, page_content='2024Articles with hAudio microformatsAll articles with unsourced statementsArticles with unsourced statements from December 2019Commons category link is on WikidataWikisource templates with missing idArticles containing video clips This page was last edited on 22 June 2025, at 03:01\\xa0(UTC). Text is available under the Creative Commons Attribution-ShareAlike 4.0 License; additional terms may apply. By using this site, you agree to the Terms of Use and Privacy Policy. Wikipedia® is a registered'), Document(metadata={'source': 'state_of_the_union.txt'}, page_content='and Privacy Policy. Wikipedia® is a registered trademark of the Wikimedia Foundation, Inc., a non-profit organization. Privacy policy About Wikipedia Disclaimers Contact Wikipedia Code of Conduct Developers Statistics Cookie statement Mobile view Search Search Toggle the table of contents State of the Union 31 languages Add topic')]\n"
     ]
    }
   ],
   "source": [
    "text_chunks = text_splitter.split_documents(documents)\n",
    "print(text_chunks)"
   ]
  },
  {
   "cell_type": "code",
   "execution_count": 16,
   "id": "e9ad9ca0-c0b0-4bdc-a4d2-e555d7ad2399",
   "metadata": {},
   "outputs": [
    {
     "name": "stdout",
     "output_type": "stream",
     "text": [
      "State of the Union - Wikipedia Jump to content Main menu Main menu move to sidebar hide Navigation Main pageContentsCurrent eventsRandom articleAbout WikipediaContact us Contribute HelpLearn to editCommunity portalRecent changesUpload fileSpecial pages Search Search Appearance Donate Create account Log in Personal tools Donate Create account Log in Pages for logged out editors learn more ContributionsTalk Contents move to sidebar hide (Top) 1 Formality 2 History 3 Delivery of the speech Toggle\n"
     ]
    }
   ],
   "source": [
    "# This text_chunks are nothing but the List \n",
    "print(text_chunks[0].page_content)"
   ]
  },
  {
   "cell_type": "code",
   "execution_count": 17,
   "id": "1b6bae3e-a0b0-4487-8013-19396eed3d5b",
   "metadata": {},
   "outputs": [],
   "source": [
    "# So now we have a chunk of the data now its time to store it so basically to db for that we need to do embedding"
   ]
  },
  {
   "cell_type": "code",
   "execution_count": 18,
   "id": "6f1878ad-b9f3-4d19-8a3a-30f983ca2a8f",
   "metadata": {},
   "outputs": [],
   "source": [
    "from langchain.vectorstores import FAISS\n"
   ]
  },
  {
   "cell_type": "code",
   "execution_count": null,
   "id": "a3a152e0-dc90-4766-b98f-c87a04783a29",
   "metadata": {},
   "outputs": [],
   "source": []
  },
  {
   "cell_type": "code",
   "execution_count": 23,
   "id": "529a9f8b-68ae-4ce4-904e-fc3b01ec03ac",
   "metadata": {},
   "outputs": [
    {
     "name": "stderr",
     "output_type": "stream",
     "text": [
      "huggingface/tokenizers: The current process just got forked, after parallelism has already been used. Disabling parallelism to avoid deadlocks...\n",
      "To disable this warning, you can either:\n",
      "\t- Avoid using `tokenizers` before the fork if possible\n",
      "\t- Explicitly set the environment variable TOKENIZERS_PARALLELISM=(true | false)\n"
     ]
    },
    {
     "name": "stdout",
     "output_type": "stream",
     "text": [
      "Requirement already satisfied: sentence-transformers in ./anaconda3/lib/python3.11/site-packages (4.1.0)\n",
      "Requirement already satisfied: transformers<5.0.0,>=4.41.0 in ./anaconda3/lib/python3.11/site-packages (from sentence-transformers) (4.52.4)\n",
      "Requirement already satisfied: tqdm in ./anaconda3/lib/python3.11/site-packages (from sentence-transformers) (4.65.0)\n",
      "Requirement already satisfied: torch>=1.11.0 in ./anaconda3/lib/python3.11/site-packages (from sentence-transformers) (2.7.1)\n",
      "Requirement already satisfied: scikit-learn in ./anaconda3/lib/python3.11/site-packages (from sentence-transformers) (1.2.2)\n",
      "Requirement already satisfied: scipy in ./anaconda3/lib/python3.11/site-packages (from sentence-transformers) (1.11.4)\n",
      "Requirement already satisfied: huggingface-hub>=0.20.0 in ./anaconda3/lib/python3.11/site-packages (from sentence-transformers) (0.33.0)\n",
      "Requirement already satisfied: Pillow in ./anaconda3/lib/python3.11/site-packages (from sentence-transformers) (10.2.0)\n",
      "Requirement already satisfied: typing_extensions>=4.5.0 in ./anaconda3/lib/python3.11/site-packages (from sentence-transformers) (4.14.0)\n",
      "Requirement already satisfied: filelock in ./anaconda3/lib/python3.11/site-packages (from huggingface-hub>=0.20.0->sentence-transformers) (3.13.1)\n",
      "Requirement already satisfied: fsspec>=2023.5.0 in ./anaconda3/lib/python3.11/site-packages (from huggingface-hub>=0.20.0->sentence-transformers) (2023.10.0)\n",
      "Requirement already satisfied: packaging>=20.9 in ./anaconda3/lib/python3.11/site-packages (from huggingface-hub>=0.20.0->sentence-transformers) (24.2)\n",
      "Requirement already satisfied: pyyaml>=5.1 in ./anaconda3/lib/python3.11/site-packages (from huggingface-hub>=0.20.0->sentence-transformers) (6.0.1)\n",
      "Requirement already satisfied: requests in ./anaconda3/lib/python3.11/site-packages (from huggingface-hub>=0.20.0->sentence-transformers) (2.31.0)\n",
      "Requirement already satisfied: hf-xet<2.0.0,>=1.1.2 in ./anaconda3/lib/python3.11/site-packages (from huggingface-hub>=0.20.0->sentence-transformers) (1.1.5)\n",
      "Requirement already satisfied: sympy>=1.13.3 in ./anaconda3/lib/python3.11/site-packages (from torch>=1.11.0->sentence-transformers) (1.14.0)\n",
      "Requirement already satisfied: networkx in ./anaconda3/lib/python3.11/site-packages (from torch>=1.11.0->sentence-transformers) (3.1)\n",
      "Requirement already satisfied: jinja2 in ./anaconda3/lib/python3.11/site-packages (from torch>=1.11.0->sentence-transformers) (3.1.3)\n",
      "Requirement already satisfied: nvidia-cuda-nvrtc-cu12==12.6.77 in ./anaconda3/lib/python3.11/site-packages (from torch>=1.11.0->sentence-transformers) (12.6.77)\n",
      "Requirement already satisfied: nvidia-cuda-runtime-cu12==12.6.77 in ./anaconda3/lib/python3.11/site-packages (from torch>=1.11.0->sentence-transformers) (12.6.77)\n",
      "Requirement already satisfied: nvidia-cuda-cupti-cu12==12.6.80 in ./anaconda3/lib/python3.11/site-packages (from torch>=1.11.0->sentence-transformers) (12.6.80)\n",
      "Requirement already satisfied: nvidia-cudnn-cu12==9.5.1.17 in ./anaconda3/lib/python3.11/site-packages (from torch>=1.11.0->sentence-transformers) (9.5.1.17)\n",
      "Requirement already satisfied: nvidia-cublas-cu12==12.6.4.1 in ./anaconda3/lib/python3.11/site-packages (from torch>=1.11.0->sentence-transformers) (12.6.4.1)\n",
      "Requirement already satisfied: nvidia-cufft-cu12==11.3.0.4 in ./anaconda3/lib/python3.11/site-packages (from torch>=1.11.0->sentence-transformers) (11.3.0.4)\n",
      "Requirement already satisfied: nvidia-curand-cu12==10.3.7.77 in ./anaconda3/lib/python3.11/site-packages (from torch>=1.11.0->sentence-transformers) (10.3.7.77)\n",
      "Requirement already satisfied: nvidia-cusolver-cu12==11.7.1.2 in ./anaconda3/lib/python3.11/site-packages (from torch>=1.11.0->sentence-transformers) (11.7.1.2)\n",
      "Requirement already satisfied: nvidia-cusparse-cu12==12.5.4.2 in ./anaconda3/lib/python3.11/site-packages (from torch>=1.11.0->sentence-transformers) (12.5.4.2)\n",
      "Requirement already satisfied: nvidia-cusparselt-cu12==0.6.3 in ./anaconda3/lib/python3.11/site-packages (from torch>=1.11.0->sentence-transformers) (0.6.3)\n",
      "Requirement already satisfied: nvidia-nccl-cu12==2.26.2 in ./anaconda3/lib/python3.11/site-packages (from torch>=1.11.0->sentence-transformers) (2.26.2)\n",
      "Requirement already satisfied: nvidia-nvtx-cu12==12.6.77 in ./anaconda3/lib/python3.11/site-packages (from torch>=1.11.0->sentence-transformers) (12.6.77)\n",
      "Requirement already satisfied: nvidia-nvjitlink-cu12==12.6.85 in ./anaconda3/lib/python3.11/site-packages (from torch>=1.11.0->sentence-transformers) (12.6.85)\n",
      "Requirement already satisfied: nvidia-cufile-cu12==1.11.1.6 in ./anaconda3/lib/python3.11/site-packages (from torch>=1.11.0->sentence-transformers) (1.11.1.6)\n",
      "Requirement already satisfied: triton==3.3.1 in ./anaconda3/lib/python3.11/site-packages (from torch>=1.11.0->sentence-transformers) (3.3.1)\n",
      "Requirement already satisfied: setuptools>=40.8.0 in ./anaconda3/lib/python3.11/site-packages (from triton==3.3.1->torch>=1.11.0->sentence-transformers) (68.2.2)\n",
      "Requirement already satisfied: numpy>=1.17 in ./anaconda3/lib/python3.11/site-packages (from transformers<5.0.0,>=4.41.0->sentence-transformers) (1.26.4)\n",
      "Requirement already satisfied: regex!=2019.12.17 in ./anaconda3/lib/python3.11/site-packages (from transformers<5.0.0,>=4.41.0->sentence-transformers) (2023.10.3)\n",
      "Requirement already satisfied: tokenizers<0.22,>=0.21 in ./anaconda3/lib/python3.11/site-packages (from transformers<5.0.0,>=4.41.0->sentence-transformers) (0.21.1)\n",
      "Requirement already satisfied: safetensors>=0.4.3 in ./anaconda3/lib/python3.11/site-packages (from transformers<5.0.0,>=4.41.0->sentence-transformers) (0.5.3)\n",
      "Requirement already satisfied: joblib>=1.1.1 in ./anaconda3/lib/python3.11/site-packages (from scikit-learn->sentence-transformers) (1.2.0)\n",
      "Requirement already satisfied: threadpoolctl>=2.0.0 in ./anaconda3/lib/python3.11/site-packages (from scikit-learn->sentence-transformers) (2.2.0)\n",
      "Requirement already satisfied: mpmath<1.4,>=1.1.0 in ./anaconda3/lib/python3.11/site-packages (from sympy>=1.13.3->torch>=1.11.0->sentence-transformers) (1.3.0)\n",
      "Requirement already satisfied: MarkupSafe>=2.0 in ./anaconda3/lib/python3.11/site-packages (from jinja2->torch>=1.11.0->sentence-transformers) (2.1.3)\n",
      "Requirement already satisfied: charset-normalizer<4,>=2 in ./anaconda3/lib/python3.11/site-packages (from requests->huggingface-hub>=0.20.0->sentence-transformers) (2.0.4)\n",
      "Requirement already satisfied: idna<4,>=2.5 in ./anaconda3/lib/python3.11/site-packages (from requests->huggingface-hub>=0.20.0->sentence-transformers) (3.4)\n",
      "Requirement already satisfied: urllib3<3,>=1.21.1 in ./anaconda3/lib/python3.11/site-packages (from requests->huggingface-hub>=0.20.0->sentence-transformers) (2.0.7)\n",
      "Requirement already satisfied: certifi>=2017.4.17 in ./anaconda3/lib/python3.11/site-packages (from requests->huggingface-hub>=0.20.0->sentence-transformers) (2024.2.2)\n"
     ]
    },
    {
     "name": "stderr",
     "output_type": "stream",
     "text": [
      "huggingface/tokenizers: The current process just got forked, after parallelism has already been used. Disabling parallelism to avoid deadlocks...\n",
      "To disable this warning, you can either:\n",
      "\t- Avoid using `tokenizers` before the fork if possible\n",
      "\t- Explicitly set the environment variable TOKENIZERS_PARALLELISM=(true | false)\n"
     ]
    },
    {
     "name": "stdout",
     "output_type": "stream",
     "text": [
      "Collecting langchain-huggingface\n",
      "  Downloading langchain_huggingface-0.3.0-py3-none-any.whl.metadata (996 bytes)\n",
      "Requirement already satisfied: langchain-core<1.0.0,>=0.3.65 in ./anaconda3/lib/python3.11/site-packages (from langchain-huggingface) (0.3.65)\n",
      "Requirement already satisfied: tokenizers>=0.19.1 in ./anaconda3/lib/python3.11/site-packages (from langchain-huggingface) (0.21.1)\n",
      "Requirement already satisfied: huggingface-hub>=0.30.2 in ./anaconda3/lib/python3.11/site-packages (from langchain-huggingface) (0.33.0)\n",
      "Requirement already satisfied: filelock in ./anaconda3/lib/python3.11/site-packages (from huggingface-hub>=0.30.2->langchain-huggingface) (3.13.1)\n",
      "Requirement already satisfied: fsspec>=2023.5.0 in ./anaconda3/lib/python3.11/site-packages (from huggingface-hub>=0.30.2->langchain-huggingface) (2023.10.0)\n",
      "Requirement already satisfied: packaging>=20.9 in ./anaconda3/lib/python3.11/site-packages (from huggingface-hub>=0.30.2->langchain-huggingface) (24.2)\n",
      "Requirement already satisfied: pyyaml>=5.1 in ./anaconda3/lib/python3.11/site-packages (from huggingface-hub>=0.30.2->langchain-huggingface) (6.0.1)\n",
      "Requirement already satisfied: requests in ./anaconda3/lib/python3.11/site-packages (from huggingface-hub>=0.30.2->langchain-huggingface) (2.31.0)\n",
      "Requirement already satisfied: tqdm>=4.42.1 in ./anaconda3/lib/python3.11/site-packages (from huggingface-hub>=0.30.2->langchain-huggingface) (4.65.0)\n",
      "Requirement already satisfied: typing-extensions>=3.7.4.3 in ./anaconda3/lib/python3.11/site-packages (from huggingface-hub>=0.30.2->langchain-huggingface) (4.14.0)\n",
      "Requirement already satisfied: hf-xet<2.0.0,>=1.1.2 in ./anaconda3/lib/python3.11/site-packages (from huggingface-hub>=0.30.2->langchain-huggingface) (1.1.5)\n",
      "Requirement already satisfied: langsmith<0.4,>=0.3.45 in ./anaconda3/lib/python3.11/site-packages (from langchain-core<1.0.0,>=0.3.65->langchain-huggingface) (0.3.45)\n",
      "Requirement already satisfied: tenacity!=8.4.0,<10.0.0,>=8.1.0 in ./anaconda3/lib/python3.11/site-packages (from langchain-core<1.0.0,>=0.3.65->langchain-huggingface) (8.2.2)\n",
      "Requirement already satisfied: jsonpatch<2.0,>=1.33 in ./anaconda3/lib/python3.11/site-packages (from langchain-core<1.0.0,>=0.3.65->langchain-huggingface) (1.33)\n",
      "Requirement already satisfied: pydantic>=2.7.4 in ./anaconda3/lib/python3.11/site-packages (from langchain-core<1.0.0,>=0.3.65->langchain-huggingface) (2.11.7)\n",
      "Requirement already satisfied: jsonpointer>=1.9 in ./anaconda3/lib/python3.11/site-packages (from jsonpatch<2.0,>=1.33->langchain-core<1.0.0,>=0.3.65->langchain-huggingface) (2.1)\n",
      "Requirement already satisfied: httpx<1,>=0.23.0 in ./anaconda3/lib/python3.11/site-packages (from langsmith<0.4,>=0.3.45->langchain-core<1.0.0,>=0.3.65->langchain-huggingface) (0.28.1)\n",
      "Requirement already satisfied: orjson<4.0.0,>=3.9.14 in ./anaconda3/lib/python3.11/site-packages (from langsmith<0.4,>=0.3.45->langchain-core<1.0.0,>=0.3.65->langchain-huggingface) (3.10.18)\n",
      "Requirement already satisfied: requests-toolbelt<2.0.0,>=1.0.0 in ./anaconda3/lib/python3.11/site-packages (from langsmith<0.4,>=0.3.45->langchain-core<1.0.0,>=0.3.65->langchain-huggingface) (1.0.0)\n",
      "Requirement already satisfied: zstandard<0.24.0,>=0.23.0 in ./anaconda3/lib/python3.11/site-packages (from langsmith<0.4,>=0.3.45->langchain-core<1.0.0,>=0.3.65->langchain-huggingface) (0.23.0)\n",
      "Requirement already satisfied: annotated-types>=0.6.0 in ./anaconda3/lib/python3.11/site-packages (from pydantic>=2.7.4->langchain-core<1.0.0,>=0.3.65->langchain-huggingface) (0.7.0)\n",
      "Requirement already satisfied: pydantic-core==2.33.2 in ./anaconda3/lib/python3.11/site-packages (from pydantic>=2.7.4->langchain-core<1.0.0,>=0.3.65->langchain-huggingface) (2.33.2)\n",
      "Requirement already satisfied: typing-inspection>=0.4.0 in ./anaconda3/lib/python3.11/site-packages (from pydantic>=2.7.4->langchain-core<1.0.0,>=0.3.65->langchain-huggingface) (0.4.1)\n",
      "Requirement already satisfied: charset-normalizer<4,>=2 in ./anaconda3/lib/python3.11/site-packages (from requests->huggingface-hub>=0.30.2->langchain-huggingface) (2.0.4)\n",
      "Requirement already satisfied: idna<4,>=2.5 in ./anaconda3/lib/python3.11/site-packages (from requests->huggingface-hub>=0.30.2->langchain-huggingface) (3.4)\n",
      "Requirement already satisfied: urllib3<3,>=1.21.1 in ./anaconda3/lib/python3.11/site-packages (from requests->huggingface-hub>=0.30.2->langchain-huggingface) (2.0.7)\n",
      "Requirement already satisfied: certifi>=2017.4.17 in ./anaconda3/lib/python3.11/site-packages (from requests->huggingface-hub>=0.30.2->langchain-huggingface) (2024.2.2)\n",
      "Requirement already satisfied: anyio in ./anaconda3/lib/python3.11/site-packages (from httpx<1,>=0.23.0->langsmith<0.4,>=0.3.45->langchain-core<1.0.0,>=0.3.65->langchain-huggingface) (4.2.0)\n",
      "Requirement already satisfied: httpcore==1.* in ./anaconda3/lib/python3.11/site-packages (from httpx<1,>=0.23.0->langsmith<0.4,>=0.3.45->langchain-core<1.0.0,>=0.3.65->langchain-huggingface) (1.0.9)\n",
      "Requirement already satisfied: h11>=0.16 in ./anaconda3/lib/python3.11/site-packages (from httpcore==1.*->httpx<1,>=0.23.0->langsmith<0.4,>=0.3.45->langchain-core<1.0.0,>=0.3.65->langchain-huggingface) (0.16.0)\n",
      "Requirement already satisfied: sniffio>=1.1 in ./anaconda3/lib/python3.11/site-packages (from anyio->httpx<1,>=0.23.0->langsmith<0.4,>=0.3.45->langchain-core<1.0.0,>=0.3.65->langchain-huggingface) (1.3.0)\n",
      "Downloading langchain_huggingface-0.3.0-py3-none-any.whl (27 kB)\n",
      "Installing collected packages: langchain-huggingface\n",
      "Successfully installed langchain-huggingface-0.3.0\n",
      "Local embeddings created successfully!\n",
      "model_name='sentence-transformers/all-MiniLM-L6-v2' cache_folder=None model_kwargs={} encode_kwargs={} query_encode_kwargs={} multi_process=False show_progress=False\n"
     ]
    }
   ],
   "source": [
    "# Install the required packages\n",
    "!pip install sentence-transformers\n",
    "!pip install langchain-huggingface\n",
    "\n",
    "# Use the updated import (this is the correct way now)\n",
    "from langchain_huggingface import HuggingFaceEmbeddings\n",
    "\n",
    "# Create local embeddings for vector store\n",
    "embeddings = HuggingFaceEmbeddings(\n",
    "    model_name=\"sentence-transformers/all-MiniLM-L6-v2\"\n",
    ")\n",
    "\n",
    "print(\"Local embeddings created successfully!\")\n",
    "print(embeddings)"
   ]
  },
  {
   "cell_type": "code",
   "execution_count": 20,
   "id": "92a26d62-b2a1-4a35-9b4e-3695cb59a318",
   "metadata": {},
   "outputs": [],
   "source": []
  },
  {
   "cell_type": "code",
   "execution_count": 21,
   "id": "42c1d309-22f4-4b99-8080-af293ad52f56",
   "metadata": {},
   "outputs": [
    {
     "name": "stdout",
     "output_type": "stream",
     "text": [
      "Requirement already satisfied: faiss-cpu in ./anaconda3/lib/python3.11/site-packages (1.11.0)\n",
      "Requirement already satisfied: numpy<3.0,>=1.25.0 in ./anaconda3/lib/python3.11/site-packages (from faiss-cpu) (1.26.4)\n",
      "Requirement already satisfied: packaging in ./anaconda3/lib/python3.11/site-packages (from faiss-cpu) (24.2)\n"
     ]
    }
   ],
   "source": [
    "!pip install faiss-cpu"
   ]
  },
  {
   "cell_type": "code",
   "execution_count": 24,
   "id": "dd002e63-7971-4957-a16b-0e1e220af499",
   "metadata": {
    "scrolled": true
   },
   "outputs": [
    {
     "name": "stdout",
     "output_type": "stream",
     "text": [
      "<langchain_community.vectorstores.faiss.FAISS object at 0x746c1207ba90>\n"
     ]
    }
   ],
   "source": [
    "# Now further we going to create object of the FAISS aswell FAISS is a inmemory Database\n",
    "vectorstore = FAISS.from_documents(text_chunks, embeddings)\n",
    "print(vectorstore)"
   ]
  },
  {
   "cell_type": "code",
   "execution_count": 25,
   "id": "e69147bf-c7bc-4211-b892-74e6b8cdbfde",
   "metadata": {},
   "outputs": [],
   "source": [
    "# So firt we will make our vector source as retiever which will be basically useful to retrieve data for LLM \n",
    "# So basically what is does is simply retrieves the Data so what happens here is basically when you will do query based on your query retivever will send the most perfect response to your LLM based on your query\n",
    "retriever = vectorstore.as_retriever()"
   ]
  },
  {
   "cell_type": "code",
   "execution_count": 29,
   "id": "50d031cb-5988-475a-9420-41f2b2dd4444",
   "metadata": {},
   "outputs": [],
   "source": [
    "from langchain.prompts import ChatPromptTemplate"
   ]
  },
  {
   "cell_type": "code",
   "execution_count": 30,
   "id": "bf2aab0d-7de7-4b4e-97ad-0c0695c46199",
   "metadata": {},
   "outputs": [],
   "source": [
    "template=\"\"\"You are an assistant for question-answering tasks.\n",
    "Use the following pieces of retrieved context to answer the question.\n",
    "If you don't know the answer, just say that you don't know.\n",
    "Use ten sentences maximum and keep the answer concise.\n",
    "Question: {question}\n",
    "Context: {context}\n",
    "Answer:\n",
    "\"\"\""
   ]
  },
  {
   "cell_type": "code",
   "execution_count": 33,
   "id": "f2bfaa68-32b5-499b-b3b1-a1e6801c00bc",
   "metadata": {},
   "outputs": [],
   "source": [
    "# Now we will Import GenAi Chat Model\n",
    "from langchain_google_genai import ChatGoogleGenerativeAI\n",
    "from langchain.schema.runnable import RunnablePassthrough\n",
    "from langchain.schema.output_parser import StrOutputParser\n",
    "from langchain.prompts import ChatPromptTemplate"
   ]
  },
  {
   "cell_type": "code",
   "execution_count": 34,
   "id": "0b9ddad3-6ad3-4cdd-b56c-bd25ec812510",
   "metadata": {},
   "outputs": [],
   "source": [
    "# Creating prompt Template\n",
    "prompt = ChatPromptTemplate.from_template(template)"
   ]
  },
  {
   "cell_type": "code",
   "execution_count": 40,
   "id": "bf1c6df1-13e1-4873-8e8d-6431bedd743b",
   "metadata": {},
   "outputs": [],
   "source": [
    "# Now using Gemini as LLM\n",
    "llm_model = ChatGoogleGenerativeAI(\n",
    "    model=\"gemini-2.0-flash\",\n",
    "    google_api_key=GOOGLE_API_KEY,\n",
    "    temperature=0.1,\n",
    "    # convert_system_message_to_human=True\n",
    ")"
   ]
  },
  {
   "cell_type": "code",
   "execution_count": 41,
   "id": "e7550ec7-a913-44fd-a447-a363c8b1bd7f",
   "metadata": {},
   "outputs": [],
   "source": [
    "# Output parser\n",
    "output_parser = StrOutputParser()"
   ]
  },
  {
   "cell_type": "code",
   "execution_count": 42,
   "id": "32504b83-372e-45fb-99fe-aef5a78eea40",
   "metadata": {},
   "outputs": [],
   "source": [
    "# This is simply the LangChain Expression to do multiple things in one go\n",
    "# Use of RunnablePass through is basically I can take the query from Run Time itself\n",
    "rag_chain = (\n",
    "    {\"context\":retriever,\"question\":RunnablePassthrough()}\n",
    "    | prompt\n",
    "    | llm_model\n",
    "    | output_parser\n",
    ")"
   ]
  },
  {
   "cell_type": "code",
   "execution_count": 52,
   "id": "64c39114-2899-4316-a3ac-0fa2c9db56df",
   "metadata": {},
   "outputs": [
    {
     "name": "stdout",
     "output_type": "stream",
     "text": [
      "Question: Expalin me aout State of the Union address in brief\n",
      "Answer: The State of the Union Address is an annual message delivered by the President of the United States to a joint session of Congress. It typically occurs near the beginning of most calendar years. The address reports on the nation's budget, economy, news, agenda, progress, and achievements. It also outlines the president's legislative proposals for the coming year. Woodrow Wilson giving his first State of the Union address on December 2, 1913, was the first time since 1801 that such an address was made in person before a joint session of Congress, initiating the modern trend.\n"
     ]
    }
   ],
   "source": [
    "# query = \"What is the State of the Union address?\"\n",
    "query = \"Expalin me aout State of the Union address in brief\"\n",
    "result = rag_chain.invoke(query)\n",
    "print(\"Question:\", query)\n",
    "print(\"Answer:\", result)"
   ]
  },
  {
   "cell_type": "code",
   "execution_count": null,
   "id": "a7741ab2-7c9a-454f-afa1-e3a15a56efe7",
   "metadata": {},
   "outputs": [],
   "source": []
  }
 ],
 "metadata": {
  "kernelspec": {
   "display_name": "Python 3 (ipykernel)",
   "language": "python",
   "name": "python3"
  },
  "language_info": {
   "codemirror_mode": {
    "name": "ipython",
    "version": 3
   },
   "file_extension": ".py",
   "mimetype": "text/x-python",
   "name": "python",
   "nbconvert_exporter": "python",
   "pygments_lexer": "ipython3",
   "version": "3.11.7"
  }
 },
 "nbformat": 4,
 "nbformat_minor": 5
}
